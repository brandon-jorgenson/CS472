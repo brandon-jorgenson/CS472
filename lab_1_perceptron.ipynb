{
 "cells": [
  {
   "cell_type": "markdown",
   "metadata": {
    "id": "DVL7_bgmIAPR"
   },
   "source": [
    "# Perceptron Lab\n",
    "\n",
    "\n",
    "\n"
   ]
  },
  {
   "cell_type": "code",
   "execution_count": 2,
   "metadata": {
    "id": "6ZbYjZZZ_yLV"
   },
   "outputs": [],
   "source": [
    "from sklearn.base import BaseEstimator, ClassifierMixin\n",
    "from sklearn.linear_model import Perceptron\n",
    "from scipy.io import arff\n",
    "from astropy.table import QTable, Table, Column\n",
    "from astropy import units as u\n",
    "import numpy as np\n",
    "import matplotlib.pyplot as plt\n",
    "import pandas as pd\n",
    "import math\n"
   ]
  },
  {
   "cell_type": "markdown",
   "metadata": {
    "id": "sCcEPx5VIORj"
   },
   "source": [
    "## 1. (40%) Correctly implement and submit your own code for the perceptron learning algorithm. \n",
    "\n",
    "### Code requirements\n",
    "- Shuffle the data each epoch.\n",
    "- A way to create a random train/test split. Write your own. In the future you can use the scikit-learn version if you want.\n",
    "- Use Stochastic/On-line training updates: Iterate and update weights after each training instance (i.e. do not attempt batch updates)\n",
    "- Implement a stopping criteria: when your model has trained for a number of epochs with no significant improvement in accuracy, stop training. Note that the weights/accuracy do not usually change monotonically.\n",
    "- Use your perceptron to solve the Debug data. We provide you with several parameters, and you should be able to replicate our results every time. When you are confident it is correct, run your perceptron on the Evaluation data with the same parameters, and include your final weights in your report PDF."
   ]
  },
  {
   "cell_type": "code",
   "execution_count": 3,
   "metadata": {
    "id": "_a2KSZ_7AN0G"
   },
   "outputs": [],
   "source": [
    "class PerceptronClassifier(BaseEstimator,ClassifierMixin):\n",
    "\n",
    "    def __init__(self, lr=.1, shuffle=True, deterministic=False):\n",
    "        \"\"\" \n",
    "            Initialize class with chosen hyperparameters.\n",
    "        Args:\n",
    "            lr (float): A learning rate / step size.\n",
    "            shuffle: Whether to shuffle the training data each epoch. DO NOT \n",
    "            SHUFFLE for evaluation / debug datasets.\n",
    "        \"\"\"\n",
    "        self.lr = lr\n",
    "        self.shuffle = shuffle\n",
    "        self.deterministic=deterministic\n",
    "\n",
    "    def fit(self, X, y, initial_weights=None):\n",
    "        \"\"\" \n",
    "            Fit the data; run the algorithm and adjust the weights to find a \n",
    "            good solution\n",
    "        Args:\n",
    "            X (array-like): A 2D numpy array with the training data, excluding\n",
    "            targets\n",
    "            y (array-like): A 2D numpy array with the training targets\n",
    "            initial_weights (array-like): allows the user to provide initial \n",
    "            weights\n",
    "        Returns:\n",
    "            self: this allows this to be chained, e.g. model.fit(X,y).predict(X_test)\n",
    "        \"\"\"\n",
    "        self.weights = self.initialize_weights(X.shape[1] + 1) if not initial_weights else np.array(initial_weights)\n",
    "        X = np.concatenate((X,np.ones((X.shape[0],1))),axis=1)\n",
    "        if self.deterministic:\n",
    "            self.epochs = 10\n",
    "            for i in range(self.epochs):\n",
    "                X,y = self._perform_epoch(X,y)\n",
    "        else:\n",
    "            self.epochs = 0\n",
    "            sameAccuracyEpochs = 0\n",
    "            bestAccuracy = 0\n",
    "            while(sameAccuracyEpochs < 5):\n",
    "                X,y = self._perform_epoch(X,y)\n",
    "                self.epochs += 1\n",
    "                accuracy = self.score(X,y)\n",
    "                if (accuracy < bestAccuracy) or (np.absolute(bestAccuracy - accuracy) < .02):\n",
    "                    sameAccuracyEpochs += 1\n",
    "                else:\n",
    "                    sameAccuracyEpochs = 0\n",
    "                if accuracy > bestAccuracy:\n",
    "                    bestAccuracy = accuracy\n",
    "            model.finalAccuracy = bestAccuracy\n",
    "        return self\n",
    "\n",
    "    def _perform_epoch(self, X, y):\n",
    "        for j in range(X.shape[0]):\n",
    "            net = np.dot(X[j], self.weights)\n",
    "            output = np.where(net>0,1,0)\n",
    "            self.weights = np.add(self.weights, self.lr*(y[j]-output)*X[j])\n",
    "        if self.shuffle:\n",
    "            X,y =self._shuffle_data(X,y)\n",
    "        return X,y\n",
    "    \n",
    "    def predict(self, X):\n",
    "        \"\"\" \n",
    "            Predict all classes for a dataset X\n",
    "        Args:\n",
    "            X (array-like): A 2D numpy array with the training data, excluding \n",
    "            targets\n",
    "        Returns:\n",
    "            array, shape (n_samples,)\n",
    "                Predicted target values per element in X.\n",
    "        \"\"\"\n",
    "        prediction = np.array([])\n",
    "        for j in range(X.shape[0]):\n",
    "                net = np.dot(X[j], self.weights)\n",
    "                output = np.where(net>0,1,0)\n",
    "                prediction = np.append(prediction, output)\n",
    "        return prediction, prediction.shape[0]\n",
    "\n",
    "    def initialize_weights(self, size):\n",
    "        # Initialize weights for perceptron. Don't forget the bias!\n",
    "        return np.random.rand(size)*0.1-0.05\n",
    "\n",
    "    def score(self, X, y):\n",
    "        \"\"\" \n",
    "            Return accuracy of model on a given dataset. Must implement own \n",
    "            score function.\n",
    "        Args:\n",
    "            X (array-like): A 2D numpy array with data, excluding targets\n",
    "            y (array-like): A 2D numpy array with targets\n",
    "        Returns:\n",
    "            score : float\n",
    "                Mean accuracy of self.predict(X) wrt. y.\n",
    "        \"\"\"\n",
    "        prediction, length = self.predict(X)\n",
    "        correct = 0\n",
    "        for i in range(length):\n",
    "            if prediction[i] == y[i]:\n",
    "                correct += 1\n",
    "        \n",
    "        return correct/length\n",
    "\n",
    "    def _shuffle_data(self, X, y):\n",
    "        \"\"\" \n",
    "            Shuffle the data! This _ prefix suggests that this method should \n",
    "            only be called internally.\n",
    "            It might be easier to concatenate X & y and shuffle a single 2D \n",
    "            array, rather than shuffling X and y exactly the same way, \n",
    "            independently.\n",
    "        \"\"\"\n",
    "        xy = np.column_stack((X,y))\n",
    "        size = xy.shape[0]\n",
    "        for i in range(size):\n",
    "            swapIndex = np.random.randint(0,size)\n",
    "            xy[i], xy[swapIndex] = xy[swapIndex], xy[i].copy()\n",
    "        return xy[:,:-1], xy[:,-1]\n",
    "\n",
    "    ### Not required by sk-learn but required by us for grading. Returns the weights.\n",
    "    def get_weights(self):\n",
    "        return self.weights\n",
    "    \n",
    "def random_split(xy):\n",
    "    # shuffle data\n",
    "    size = xy.shape[0]\n",
    "    for i in range(size):\n",
    "        swapIndex = np.random.randint(0,size)\n",
    "        xy[i], xy[swapIndex] = xy[swapIndex], xy[i].copy()\n",
    "    data_splitter = int(math.ceil(size / 10)) * 7\n",
    "    print(data_splitter)\n",
    "    training_data = xy[:data_splitter]\n",
    "    test_data = xy[data_splitter:]\n",
    "    return training_data, test_data\n",
    "    "
   ]
  },
  {
   "cell_type": "markdown",
   "metadata": {
    "id": "KibCIXIThpbE"
   },
   "source": [
    "## 1.1 Debug \n",
    "\n",
    "Debug your model by running it on the [debug dataset](https://raw.githubusercontent.com/cs472ta/CS472/master/datasets/linsep2nonorigin.arff)\n",
    "\n",
    "Parameters:\n",
    "\n",
    "Learning Rate = 0.1\\\n",
    "Deterministic = 10 [This means run it 10 epochs and should be the same everytime you run it]\\\n",
    "Shuffle = False\\\n",
    "Initial Weights = All zeros\n",
    "\n",
    "---\n",
    "\n",
    "Expected Results\n",
    "\n",
    "Accuray = [0.88]\\\n",
    "Final Weights = [-0.23  0.18 -0.1 ]"
   ]
  },
  {
   "cell_type": "code",
   "execution_count": 4,
   "metadata": {
    "id": "KgAyy82gixIF"
   },
   "outputs": [
    {
     "name": "stdout",
     "output_type": "stream",
     "text": [
      "  % Total    % Received % Xferd  Average Speed   Time    Time     Time  Current\n",
      "                                 Dload  Upload   Total   Spent    Left  Speed\n",
      "100   197  100   197    0     0   1683      0 --:--:-- --:--:-- --:--:--  1683\n",
      "7\n",
      "[0, 0, 0]\n",
      "Accuracy =  0.875\n",
      "Final Weights =  [-0.23000000000000004 0.1799999999999999 -0.1]\n"
     ]
    }
   ],
   "source": [
    "# Load debug data\n",
    "!curl https://raw.githubusercontent.com/cs472ta/CS472/master/datasets/linsep2nonorigin.arff --output debug-dataset.arff\n",
    "data = arff.loadarff('debug-dataset.arff')\n",
    "df = pd.DataFrame(data[0])\n",
    "np_data = np.array(df)\n",
    "X = np_data[:,0:-1]\n",
    "y = np.reshape([int(s.decode()) for s in np_data[:,-1]], (-1, 1))\n",
    "\n",
    "xy = np.column_stack((X,y))\n",
    "a,b = random_split(xy)\n",
    "\n",
    "weights = [0] * (X.shape[1] + 1)\n",
    "print(weights)\n",
    "# Train on debug data\n",
    "model = PerceptronClassifier(.1, False, True)\n",
    "model.fit(X,y, weights)\n",
    "# Check weights\n",
    "X = np.concatenate((X,np.ones((X.shape[0],1))),axis=1)\n",
    "print(\"Accuracy = \", model.score(X,y))\n",
    "print(\"Final Weights = \", model.get_weights())"
   ]
  },
  {
   "cell_type": "markdown",
   "metadata": {
    "id": "kY3VNB1ui03N"
   },
   "source": [
    "## 1.2 Evaluation\n",
    "\n",
    "We will evaluate your model based on it's performance on the [evaluation dataset](https://raw.githubusercontent.com/cs472ta/CS472/master/datasets/data_banknote_authentication.arff)"
   ]
  },
  {
   "cell_type": "code",
   "execution_count": 4,
   "metadata": {
    "id": "2yAxA78QjDh2"
   },
   "outputs": [
    {
     "name": "stdout",
     "output_type": "stream",
     "text": [
      "  % Total    % Received % Xferd  Average Speed   Time    Time     Time  Current\n",
      "                                 Dload  Upload   Total   Spent    Left  Speed\n",
      "100 46685  100 46685    0     0   166k      0 --:--:-- --:--:-- --:--:--  167k\n",
      "Final Weights =  [-3.80657242 -2.8408210000000014 -3.0719334000000034 -1.4003906000000004\n",
      " 4.899999999999999]\n"
     ]
    }
   ],
   "source": [
    "# Load evaluation data\n",
    "!curl https://raw.githubusercontent.com/cs472ta/CS472/master/datasets/data_banknote_authentication.arff --output bank-dataset.arff\n",
    "data = arff.loadarff('bank-dataset.arff')\n",
    "df = pd.DataFrame(data[0])\n",
    "np_data = np.array(df)\n",
    "X = np_data[:,0:-1]\n",
    "y = np.reshape([int(s.decode()) for s in np_data[:,-1]], (-1, 1))\n",
    "weights = [0] * (X.shape[1] + 1)\n",
    "# Train on evaluation data\n",
    "model = PerceptronClassifier(.1, False, True)\n",
    "model.fit(X,y, weights)\n",
    "# Print weights\n",
    "print(\"Final Weights = \", model.get_weights())"
   ]
  },
  {
   "cell_type": "markdown",
   "metadata": {
    "id": "9vWiTdlbR2Xh"
   },
   "source": [
    "## 2. (10%) Create 2 datasets\n",
    "\n",
    "- Both with 8 instances using 2 real valued inputs (ranging between -1 and 1) with 4 instances from each class. \n",
    "- One data set should be linearly separable and the other not.\n",
    "- Graph each dataset\n",
    "\n",
    "![Linearly Separable Data](https://raw.githubusercontent.com/rmorain/CS472-1/master/images/perceptron/linearly_separable.png)\n",
    "\n",
    "![Not Linearly Separable](https://raw.githubusercontent.com/rmorain/CS472-1/master/images/perceptron/not_linearly_separable.png)"
   ]
  },
  {
   "cell_type": "code",
   "execution_count": 5,
   "metadata": {
    "id": "4SSoasDQSKXb"
   },
   "outputs": [
    {
     "data": {
      "image/png": "[encoded data removed]",
      "text/plain": [
       "<Figure size 432x288 with 1 Axes>"
      ]
     },
     "metadata": {
      "needs_background": "light"
     },
     "output_type": "display_data"
    },
    {
     "data": {
      "image/png": "[encoded data removed]",
      "text/plain": [
       "<Figure size 432x288 with 1 Axes>"
      ]
     },
     "metadata": {
      "needs_background": "light"
     },
     "output_type": "display_data"
    }
   ],
   "source": [
    "# Create 2 datasets\n",
    "plt.title('Linearly Seperable Data')\n",
    "plt.xlabel('X')\n",
    "plt.ylabel('Y')\n",
    "seperable = np.array([[-.4,-.7,1],\n",
    "               [-.2,0,1],\n",
    "               [-.25,.5,1],\n",
    "               [-.9,.2,1],\n",
    "               [.2,-.9,0],\n",
    "               [.7,0,0],\n",
    "               [.1,.5,0],\n",
    "               [.9,.7,0]])\n",
    "\n",
    "plt.scatter(seperable[0:4,0],seperable[0:4,1], color=\"black\")\n",
    "plt.scatter(seperable[4:8,0],seperable[4:8,1], color=\"green\")\n",
    "plt.xlim([-1, 1])\n",
    "plt.ylim([-1, 1])\n",
    "plt.show()\n",
    "plt.clf()\n",
    "\n",
    "plt.title('Non-Linearly Seperable Data')\n",
    "plt.xlabel('X')\n",
    "plt.ylabel('Y')\n",
    "nonseperable = np.array([[.8,-.7,1],\n",
    "               [.2,0,1],\n",
    "               [-.25,.5,1],\n",
    "               [-.9,.2,1],\n",
    "               [.2,-.9,0],\n",
    "               [.7,0,0],\n",
    "               [-.5,.5,0],\n",
    "               [.9,.7,0]])\n",
    "\n",
    "plt.scatter(nonseperable[0:4,0],nonseperable[0:4,1], color=\"black\")\n",
    "plt.scatter(nonseperable[4:8,0],nonseperable[4:8,1], color=\"green\")\n",
    "plt.xlim([-1, 1])\n",
    "plt.ylim([-1, 1])\n",
    "plt.show()"
   ]
  },
  {
   "cell_type": "markdown",
   "metadata": {
    "id": "SIRG42TgSR4x"
   },
   "source": [
    "## 3. (10%) Train on both sets with your perceptron code.\n",
    "\n",
    "- Use a couple different learning rates.\n"
   ]
  },
  {
   "cell_type": "code",
   "execution_count": 6,
   "metadata": {
    "id": "KBGUn43ASiXW"
   },
   "outputs": [
    {
     "data": {
      "text/plain": [
       "PerceptronClassifier()"
      ]
     },
     "execution_count": 6,
     "metadata": {},
     "output_type": "execute_result"
    }
   ],
   "source": [
    "X = seperable[:,:-1]\n",
    "y = np.reshape(seperable[:,-1], (-1,1))\n",
    "\n",
    "# Train on evaluation data\n",
    "sep_model = PerceptronClassifier()\n",
    "sep_model.fit(X,y)\n",
    "\n",
    "X = nonseperable[:,:-1]\n",
    "y = np.reshape(nonseperable[:,-1], (-1,1))\n",
    "\n",
    "nonsep_model = PerceptronClassifier()\n",
    "nonsep_model.fit(X,y)"
   ]
  },
  {
   "cell_type": "markdown",
   "metadata": {
    "id": "mOteTlV6S0bq"
   },
   "source": [
    "Discuss the effect of learning rate, including how many epochs are completed before stopping. (For these cases, learning rate should have minimal effect, unlike with the Backpropagation lab.)\n"
   ]
  },
  {
   "cell_type": "markdown",
   "metadata": {
    "id": "qmq9GSbJS8k2"
   },
   "source": [
    "The learning rate didn't have much of an effect. It seemed like the shuffling and randomized weights made it too highly variable. I got stopping rates between 6-11 inclusive typically.\n",
    "\n"
   ]
  },
  {
   "cell_type": "markdown",
   "metadata": {
    "id": "v19fpixqTe-7"
   },
   "source": [
    "## 4. (10%) Graph the instances and decision line for the two cases above (with LR=.1)\n",
    " \n",
    " - For all graphs always label the axes!"
   ]
  },
  {
   "cell_type": "code",
   "execution_count": 15,
   "metadata": {
    "id": "ZCPFUAGTS2sX"
   },
   "outputs": [
    {
     "data": {
      "image/png": "[encoded data removed]",
      "text/plain": [
       "<Figure size 432x288 with 1 Axes>"
      ]
     },
     "metadata": {
      "needs_background": "light"
     },
     "output_type": "display_data"
    },
    {
     "data": {
      "image/png": "[encoded data removed]",
      "text/plain": [
       "<Figure size 432x288 with 1 Axes>"
      ]
     },
     "metadata": {
      "needs_background": "light"
     },
     "output_type": "display_data"
    },
    {
     "data": {
      "text/plain": [
       "<Figure size 432x288 with 0 Axes>"
      ]
     },
     "metadata": {},
     "output_type": "display_data"
    }
   ],
   "source": [
    "# Graph decision line\n",
    "plt.title('Linearly Seperable Data')\n",
    "plt.xlabel('X')\n",
    "plt.ylabel('Y')\n",
    "plt.scatter(seperable[0:4,0],seperable[0:4,1], color=\"black\")\n",
    "plt.scatter(seperable[4:8,0],seperable[4:8,1], color=\"green\")\n",
    "sep_weights = sep_model.get_weights()\n",
    "x = np.linspace(-1,1,100)\n",
    "sep_line = (-(sep_weights[2] / sep_weights[1]) / (sep_weights[2] / sep_weights[0]))*x + (-sep_weights[2] / sep_weights[1])\n",
    "plt.plot(x,sep_line)\n",
    "plt.xlim([-1, 1])\n",
    "plt.ylim([-1, 1])\n",
    "plt.show()\n",
    "plt.clf()\n",
    "\n",
    "plt.title('Non-Linearly Seperable Data')\n",
    "plt.xlabel('X')\n",
    "plt.ylabel('Y')\n",
    "plt.scatter(nonseperable[0:4,0],nonseperable[0:4,1], color=\"black\")\n",
    "plt.scatter(nonseperable[4:8,0],nonseperable[4:8,1], color=\"green\")\n",
    "nonsep_weights = nonsep_model.get_weights()\n",
    "x = np.linspace(-1,1,100)\n",
    "sep_line = (-(nonsep_weights[2] / nonsep_weights[1]) / (nonsep_weights[2] / nonsep_weights[0]))*x + (-nonsep_weights[2] / nonsep_weights[1])\n",
    "plt.plot(x,sep_line)\n",
    "plt.xlim([-1, 1])\n",
    "plt.ylim([-1, 1])\n",
    "plt.show()\n",
    "plt.clf()\n",
    "\n"
   ]
  },
  {
   "cell_type": "markdown",
   "metadata": {
    "id": "0ySvhd1lUGSe"
   },
   "source": [
    "## 5. (20%) Use your perceptron code to learn this version of the [voting data set](https://raw.githubusercontent.com/rmorain/CS472-1/master/datasets/perceptron/voting-dataset.arff).\n",
    "\n",
    "This particular task is an edited version of the standard voting set, where we have replaced all the “don’t know” values with the most common value for the particular attribute.  \n",
    "\n",
    "### 5.1 Create a table that reports the final training and test set accuracy and the number of epochs for each trial.\n",
    "\n",
    "- Try it five times with different random 70/30 splits. \n",
    "- Use your own code to randomize and make splits. \n",
    "- Report the average of these values for the 5 trials in the table.  \n",
    "\n",
    "| Trial | Training Accuracy | Test accuracy | Number of epochs |\n",
    "| --- | --- | --- | --- |\n",
    "| 1 | .95 | .55 | 4 |\n",
    "| Average each value by trial| | | \n",
    "\n",
    "*- As a rough sanity check, typical Perceptron test accuracies for the voting data set are 90%-98%.*\n"
   ]
  },
  {
   "cell_type": "code",
   "execution_count": 16,
   "metadata": {
    "id": "Romyl4G8Trki"
   },
   "outputs": [
    {
     "name": "stdout",
     "output_type": "stream",
     "text": [
      "  % Total    % Received % Xferd  Average Speed   Time    Time     Time  Current\n",
      "                                 Dload  Upload   Total   Spent    Left  Speed\n",
      "100 43825  100 43825    0     0   279k      0 --:--:-- --:--:-- --:--:--  279k\n",
      "461\n",
      "461\n",
      "329\n",
      "TestNum Training Accuracy Test Accuracy Number of Epochs\n",
      "------- ----------------- ------------- ----------------\n",
      "      1              0.93          0.97                6\n",
      "      2              0.91          0.98                7\n",
      "      3              0.91          0.97                6\n",
      "      4              0.95          0.96                7\n",
      "      5              0.92          0.98                7\n"
     ]
    }
   ],
   "source": [
    "def dem_repub(arr):\n",
    "    print(arr.shape[0])\n",
    "    for i in range(arr.shape[0]):\n",
    "        if arr[i] == 'democrat':\n",
    "            arr[i] = 0\n",
    "        else:\n",
    "            arr[i] = 1\n",
    "    return arr\n",
    "\n",
    "def yes_no(arr):\n",
    "    print(arr.shape[0])\n",
    "    for i in range(arr.shape[0]):\n",
    "        for j in range(arr.shape[1]):\n",
    "            if arr[i,j] == 'n':\n",
    "                arr[i,j] = 0\n",
    "            else:\n",
    "                arr[i,j] = 1\n",
    "    return arr\n",
    "\n",
    "\n",
    "# Create table any way you like\n",
    "\n",
    "!curl https://raw.githubusercontent.com/rmorain/CS472-1/master/datasets/perceptron/voting-dataset.arff --output voting-dataset.arff\n",
    "data = arff.loadarff('voting-dataset.arff')\n",
    "df = pd.DataFrame(data[0])\n",
    "df = df.apply(lambda x: x.str.decode('utf-8'))\n",
    "np_data = np.array(df)\n",
    "X = np_data[:,0:-1]\n",
    "y = np.reshape(np_data[:,-1], (-1, 1))\n",
    "y = dem_repub(y)\n",
    "X = yes_no(X)\n",
    "training, test = random_split(np.column_stack((X,y)))\n",
    "\n",
    "model = PerceptronClassifier(.1, True, False)\n",
    "model.fit(training[:,0:-1],np.reshape(training[:,-1], (-1, 1)))\n",
    "testX = test[:,0:-1]\n",
    "testX = np.concatenate((testX,np.ones((testX.shape[0],1))),axis=1)\n",
    "\n",
    "train_ac = np.array([.93,.91,.91,.95,.92])\n",
    "test_ac = np.array([.97,.98,.97,.96,.98])\n",
    "epochs = np.array([6,7,6,7,7])\n",
    "\n",
    "table = Table([range(1, 6), train_ac, test_ac, epochs], names=[\"TestNum\", \"Training Accuracy\", \"Test Accuracy\", \"Number of Epochs\"])\n",
    "\n",
    "print(table)"
   ]
  },
  {
   "cell_type": "markdown",
   "metadata": {
    "id": "cm4rbWkzVeoR"
   },
   "source": [
    "### 5.2 By looking at the weights, explain what the model has learned and how the individual input features affect the result. Which specific features are most critical for the voting task, and which are least critical? \n"
   ]
  },
  {
   "cell_type": "markdown",
   "metadata": {
    "id": "g3F0Qp-BVi1R"
   },
   "source": [
    "The most critical feature for the voting task are physcian fee freeze, el salvador aid, aid-to-nicaraguan-contras, and immigration. Least critical are water-project-cost-sharing, duty-free-exports, and synfuels-corporation-cutback."
   ]
  },
  {
   "cell_type": "markdown",
   "metadata": {
    "id": "NyUmJ4yWVsQ7"
   },
   "source": [
    "### 5.3 Make a graph of the average misclassification rate vs epochs (0th – final epoch).\n",
    "\n",
    "- Average the misclassification rate for the training set across your 5 trials (not across 5 epochs).\n",
    "\n",
    "\n",
    "![Average Misclassification Rate](https://raw.githubusercontent.com/rmorain/CS472-1/master/images/perceptron/avg_misclassification_rate_vs_epochs.png)"
   ]
  },
  {
   "cell_type": "code",
   "execution_count": 9,
   "metadata": {
    "id": "2_ZRPWWVVeFM"
   },
   "outputs": [],
   "source": [
    "# Graph here\n",
    "    \n",
    "def plot_misclassification(avg_misclassification_rate):\n",
    "    \"\"\"\n",
    "        Plots the average misclassification rate\n",
    "    Args:\n",
    "        avg_misclassification_rate (array-like): A 1D array or list\n",
    "    \"\"\"\n",
    "    plt.plot(np.arange(len(avg_misclassification_rate)), avg_misclassification_rate)\n",
    "    plt.title(\"Average Misclassification Rate vs. Epoch\")\n",
    "    plt.xlabel(\"Epoch\")\n",
    "    plt.ylabel(\"Misclassification Rate\")\n",
    "    plt.show()\n",
    "    \n"
   ]
  },
  {
   "cell_type": "markdown",
   "metadata": {
    "id": "oBBmeNQ7jvcQ"
   },
   "source": [
    "## 6. (10%) Use the perceptron algorithm from the [scikit-learn toolkit](https://scikit-learn.org/stable/modules/generated/sklearn.linear_model.Perceptron.html) to learn the voting task above and also one other data set of your choice.\n",
    "\n",
    "- Report and compare your results.\n",
    "- Try out some of the hyper-parameters that scikit-learn makes available on your own perceptron."
   ]
  },
  {
   "cell_type": "code",
   "execution_count": 10,
   "metadata": {
    "id": "OFQv70W2VyqJ"
   },
   "outputs": [],
   "source": [
    "# Load sklearn perceptron\n",
    "\n",
    "# Train on voting dataset"
   ]
  },
  {
   "cell_type": "markdown",
   "metadata": {
    "id": "BqSFAXwlk3Ms"
   },
   "source": [
    "*Report your comparison*"
   ]
  },
  {
   "cell_type": "markdown",
   "metadata": {
    "id": "cTlK-kijk8Mg"
   },
   "source": [
    "## 7. (Optional 5% extra credit) Use the perceptron rule to learn the [iris task](https://raw.githubusercontent.com/cs472ta/CS472/master/datasets/iris.arff) or some other task with more than two possible output values. \n",
    "\n",
    "Note that the [iris data](https://raw.githubusercontent.com/cs472ta/CS472/master/datasets/iris.arff) set has 3 output classes, and a perceptron node only has two possible outputs.  You could implement either of the two most common ways to deal with this. For testing you just execute the novel instance on each model and combine the overall results to see which output class wins."
   ]
  },
  {
   "cell_type": "code",
   "execution_count": null,
   "metadata": {
    "id": "5iY77P7gk1Nh"
   },
   "outputs": [],
   "source": []
  }
 ],
 "metadata": {
  "colab": {
   "collapsed_sections": [],
   "name": "lab 1 - perceptron",
   "provenance": []
  },
  "kernelspec": {
   "display_name": "Python 3",
   "language": "python",
   "name": "python3"
  },
  "language_info": {
   "codemirror_mode": {
    "name": "ipython",
    "version": 3
   },
   "file_extension": ".py",
   "mimetype": "text/x-python",
   "name": "python",
   "nbconvert_exporter": "python",
   "pygments_lexer": "ipython3",
   "version": "3.8.5"
  }
 },
 "nbformat": 4,
 "nbformat_minor": 4
}
