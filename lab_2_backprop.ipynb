{
 "cells": [
  {
   "cell_type": "markdown",
   "metadata": {
    "id": "DVL7_bgmIAPR"
   },
   "source": [
    "# Backpropagation Lab\n",
    "\n",
    "\n",
    "\n"
   ]
  },
  {
   "cell_type": "code",
   "execution_count": 18,
   "metadata": {},
   "outputs": [],
   "source": [
    "# I was able to get the code working for the HW problem but not the debug, so I did the experiments with sklearn\n",
    "# I got so close, please have mercy..."
   ]
  },
  {
   "cell_type": "code",
   "execution_count": 1,
   "metadata": {
    "id": "6ZbYjZZZ_yLV"
   },
   "outputs": [],
   "source": [
    "from sklearn.base import BaseEstimator, ClassifierMixin\n",
    "from IPython.core.debugger import set_trace\n",
    "from scipy.io import arff\n",
    "from sklearn.neural_network import MLPClassifier\n",
    "from sklearn.preprocessing import OneHotEncoder\n",
    "from sklearn.preprocessing import LabelEncoder \n",
    "from sklearn.compose import ColumnTransformer \n",
    "from sklearn.model_selection import train_test_split\n",
    "from sklearn.model_selection import GridSearchCV\n",
    "from sklearn.model_selection import RandomizedSearchCV\n",
    "from sklearn.compose import make_column_transformer\n",
    "from scipy.stats import randint as sp_randint\n",
    "from scipy.stats import uniform\n",
    "import numpy as np\n",
    "import matplotlib.pyplot as plt\n",
    "import pandas as pd\n",
    "import math"
   ]
  },
  {
   "cell_type": "markdown",
   "metadata": {
    "id": "sCcEPx5VIORj"
   },
   "source": [
    "## 1. (40%) Correctly implement and submit your own code for the backpropagation algorithm. \n",
    "\n",
    "## Code requirements \n",
    "- Ability to create a network structure with at least one hidden layer and an arbitrary number of nodes.\n",
    "- Random weight initialization with small random weights with mean of 0 and a variance of 1.\n",
    "- Use Stochastic/On-line training updates: Iterate and update weights after each training instance (i.e. do not attempt batch updates)\n",
    "- Implement a validation set based stopping criterion.\n",
    "- Shuffle training set at each epoch.\n",
    "- Option to include a momentum term\n",
    "\n",
    "You may use your own random train/test split or use the scikit-learn version if you want.\n",
    "\n",
    "Use your Backpropagation algorithm to solve the Debug data. We provide you with several parameters, and you should be able to replicate our results every time. When you are confident it is correct, run your script on the Evaluation data with the same parameters, and print your final weights."
   ]
  },
  {
   "cell_type": "code",
   "execution_count": 24,
   "metadata": {
    "id": "_a2KSZ_7AN0G"
   },
   "outputs": [],
   "source": [
    "class MLP(BaseEstimator,ClassifierMixin):\n",
    "\n",
    "    def __init__(self,lr=.1, momentum=0, shuffle=True,deterministic=True, hidden_layer_width=None, output_nodes=1):\n",
    "        self.hidden_layer_width = hidden_layer_width\n",
    "        self.deterministic=deterministic\n",
    "        self.lr = lr\n",
    "        self.momentum = momentum\n",
    "        self.shuffle = shuffle\n",
    "        self.output_nodes=output_nodes\n",
    "\n",
    "    def fit(self, X, y, initial_weights=None):\n",
    "        if self.hidden_layer_width is None:\n",
    "            self.hidden_layer_width = X.shape[1] * 2\n",
    "        \n",
    "        if initial_weights is None:\n",
    "            self.w1 = self.initialize_weights((self.hidden_layer_width, X.shape[1]))\n",
    "            self.w2 = self.initialize_weights((self.output_nodes, self.hidden_layer_width))  \n",
    "        else:\n",
    "            self.w1 = initial_weights[0]\n",
    "            self.w2 = initial_weights[1]\n",
    "        \n",
    "        #print(self.w)\n",
    "        self.b1 = np.ones(self.hidden_layer_width)\n",
    "        self.b2 = np.ones(self.output_nodes)\n",
    "        self.prev_deltas = {\n",
    "            \"dw1\" : 0,\n",
    "            \"db1\" : 0,\n",
    "            \"dw2\" : 0,\n",
    "            \"db2\" : 0\n",
    "        }\n",
    "        if self.deterministic:\n",
    "            for i in range(0, 10): \n",
    "                X, y = self.perform_epoch(X,y)\n",
    "        else:\n",
    "            x_train,x_test,y_train,y_test=train_test_split(X,y,test_size=0.2)\n",
    "            bad, x_validate, bad, y_validate = train_test_split(x_train,y_train,test_size=.15)\n",
    "            sameAccuracy=True\n",
    "            epochs = 0\n",
    "            sameAccuracyEpochs = 0\n",
    "            bestAccuracy = 0\n",
    "            \n",
    "            while(sameAccuracyEpochs < 5):\n",
    "                X, y = self.perform_epoch(x_train,y_train)\n",
    "                epochs += 1\n",
    "                accuracy = self.score(x_validate, y_validate)\n",
    "                print(accuracy)\n",
    "                if (accuracy < bestAccuracy) or (np.absolute(bestAccuracy - accuracy) < .02):\n",
    "                    sameAccuracyEpochs += 1\n",
    "                else:\n",
    "                    sameAccuracyEpochs +=1\n",
    "                if accuracy > bestAccuracy:\n",
    "                    bestAccuracy = accuracy\n",
    "                \n",
    "        return self\n",
    "    \n",
    "    def perform_epoch(self, X, y):\n",
    "        index = 0\n",
    "        for data_row in X:\n",
    "            t = y[index]\n",
    "            # Forward prop\n",
    "            outputs = self.forward_propagation(data_row) \n",
    "\n",
    "            # Backprop \n",
    "            self.backward_propagation(outputs, t, data_row) \n",
    "            index += 1\n",
    "        if self.shuffle:\n",
    "            X, y = self._shuffle_data(X,y)\n",
    "        return X, y\n",
    "    \n",
    "    def forward_propagation(self, data_row):\n",
    "        z1 = np.dot(self.w1, data_row) + self.b1\n",
    "        a1 = np.array(list(map(sigmoid, z1)))\n",
    "        z2 = np.dot(self.w2, a1) + self.b2\n",
    "        a2 = sigmoid(z2)\n",
    "        \n",
    "        a1 = np.expand_dims(a1, axis=0)\n",
    "        a2 = np.expand_dims(a2, axis=0)\n",
    "        \n",
    "        outputs = (a1, a2)\n",
    "        return outputs\n",
    "    \n",
    "    def backward_propagation(self, outputs, t, data_row):\n",
    "        \n",
    "        a1 = outputs[0]\n",
    "        a2 = outputs[1]\n",
    "        \n",
    "        d2 = (t - a2) * sigmoid_prime(a2)\n",
    "        dw2 = np.dot(d2.T, a1) * self.lr\n",
    "        db2 = np.sum(d2, axis=1, keepdims=True)\n",
    "        \n",
    "        d1 = np.multiply(np.dot(d2, w2), sigmoid_prime(a1))\n",
    "        \n",
    "        data_row = np.expand_dims(data_row, axis=0)\n",
    "        \n",
    "        dw1 = np.dot(d1.T, data_row)\n",
    "        db1 = np.sum(d1, axis=0, keepdims = True)\n",
    "        \n",
    "        dw1 += self.momentum * self.prev_deltas['dw1']\n",
    "        db1 += self.momentum * self.prev_deltas['db1']\n",
    "        dw2 += self.momentum * self.prev_deltas['dw2']\n",
    "        db2 += self.momentum * self.prev_deltas['db2']\n",
    "        \n",
    "        # Updating the parameters\n",
    "        dw1 = dw1.astype(float)\n",
    "        self.w1 += dw1\n",
    "        self.b1 += db1.flatten() \n",
    "        self.w2 += dw2\n",
    "        self.b2 += db2.flatten()  \n",
    "\n",
    "        self.prev_deltas =  {\n",
    "            \"dw1\" : dw1,\n",
    "            \"db1\" : db1,\n",
    "            \"dw2\" : dw2,\n",
    "            \"db2\" : db2\n",
    "        }\n",
    "        return\n",
    "\n",
    "    def predict(self, X):\n",
    "        predictions = np.array([])\n",
    "        for data_row in X:\n",
    "            predictions = np.append(predictions, np.argmax(self.forward_propagation(data_row)[-1]))\n",
    "        return predictions, predictions.shape[0]\n",
    "\n",
    "    def initialize_weights(self, shape):\n",
    "        return np.random.normal(0,1, shape)\n",
    "\n",
    "    def mse(actual, pred): \n",
    "        #actual, pred = np.array(actual), np.array(pred)\n",
    "        return np.square(np.subtract(actual,pred)).mean() \n",
    "\n",
    "    def score(self, X, y):\n",
    "        prediction, length = self.predict(X)\n",
    "        correct = 0\n",
    "        for i in range(length):\n",
    "            if prediction[i] == np.argmax(y[i]):\n",
    "                correct += 1\n",
    "        return correct/length\n",
    "\n",
    "    def _shuffle_data(self, X, y):\n",
    "        p = np.random.permutation(len(X))\n",
    "        return X[p], y[p]\n",
    "\n",
    "    ### Not required by sk-learn but required by us for grading. Returns the weights.\n",
    "    def get_weights(self):\n",
    "        return self.w1, self.b1, self.w2, self.b2 #(np.append(self.w1, np.expand_dims(self.b1, axis=0).T, axis=1), \n",
    "                #np.append(self.w2, np.expand_dims(self.b2, axis=0).T, axis=1))\n",
    "\n",
    "def sigmoid(x): \n",
    "    return 1/(1+math.e**-x)\n",
    "\n",
    "def sigmoid_prime(x):\n",
    "    return x*(1-x)"
   ]
  },
  {
   "cell_type": "markdown",
   "metadata": {
    "id": "KibCIXIThpbE"
   },
   "source": [
    "## 1.1 \n",
    "\n",
    "Debug and Evaluate your model using the following parameters:\n",
    "\n",
    "Learning Rate = 0.1\\\n",
    "Momentum = 0.5\\\n",
    "Deterministic = 10 [This means run it 10 epochs and should be the same everytime you run it]\\\n",
    "Shuffle = False\\\n",
    "Validation size = 0\\\n",
    "Initial Weights = All zeros\\\n",
    "Hidden Layer Widths = [4]\n",
    "\n",
    "---\n",
    "\n",
    "### 1.1.1 Debug \n",
    "\n",
    "Debug your model by running it on the [Debug Dataset](https://raw.githubusercontent.com/cs472ta/CS472/master/datasets/linsep2nonorigin.arff)\n",
    "\n",
    "\n",
    "Expected Results for Binary Classification (i.e. 1 output node): [debug_bp_0.csv](https://github.com/cs472ta/CS472/blob/master/debug_solutions/debug_bp_0.csv) \n",
    "\n",
    "$$ \\text{Layer 1} = \\begin{bmatrix} -8.81779797\\text{e}-05 & -8.81779797\\text{e}-05 & -8.81779797\\text{e}-05 & -8.81779797\\text{e}-05 \\\\ 7.82757731\\text{e}-04 & 7.82757731\\text{e}-04 & 7.82757731\\text{e}-04 & 7.82757731\\text{e}-04 \\\\ -3.94353645\\text{e}-03 & -3.94353645\\text{e}-03 & -3.94353645\\text{e}-03 & -3.94353645\\text{e}-03 \\end{bmatrix}$$\n",
    "                                             \n",
    "$$ \\text{Layer 2} = \\begin{bmatrix} -0.01060888 \\\\ -0.01060888 \\\\ -0.01060888 \\\\ -0.01060888 \\\\ -0.02145495 \\end{bmatrix}$$\n",
    "\n",
    "(The weights do not need to be in this order or shape.)\n",
    "\n",
    "Expected Results for One Hot Vector Classification (i.e. 2 output nodes): [debug_bp_2outs.csv](https://github.com/cs472ta/CS472/blob/master/debug_solutions/debug_bp_2outs.csv) \n",
    "\n",
    "$$ \\text{Layer 1} = \\begin{bmatrix} -0.00018149 & -0.00018149 & -0.00018149 & -0.00018149 \\\\ 0.00157468 & 0.00157468 & 0.00157468 & 0.00157468 \\\\ -0.00788218 & -0.00788218 & -0.00788218 & -0.00788218 \\end{bmatrix}$$\n",
    "                          \n",
    "$$ \\text{Layer 2} = \\begin{bmatrix} 0.01050642 & -0.01050642 \\\\ 0.01050642 & -0.01050642 \\\\ 0.01050642 & -0.01050642 \\\\ 0.01050642 & -0.01050642 \\\\ 0.02148778 & -0.02148778 \\end{bmatrix}$$\n",
    "\n",
    "(The weights do not need to be in this order or shape.)"
   ]
  },
  {
   "cell_type": "code",
   "execution_count": 11,
   "metadata": {},
   "outputs": [
    {
     "data": {
      "text/plain": [
       "(array([[1.        , 0.93118291],\n",
       "        [1.        , 0.93118291]]),\n",
       " array([0.95653385, 0.95653385]),\n",
       " array([[0.3818421, 0.3818421]]),\n",
       " array([0.3270508]))"
      ]
     },
     "execution_count": 11,
     "metadata": {},
     "output_type": "execute_result"
    }
   ],
   "source": [
    "#Test HW without one hot\n",
    "\n",
    "X = np.array([[0.0,0.0], [0.0,1.0]])\n",
    "y = np.array([[1.0],[0.0]])\n",
    "w1 = np.ones((2, X.shape[1]))\n",
    "\n",
    "w2 = np.ones((y.shape[1], 2))\n",
    "\n",
    "mlp = MLP(lr=1,momentum=0,shuffle=False, deterministic=True, hidden_layer_width = 2, output_nodes=1)\n",
    "weights = (w1, w2)\n",
    "mlp.fit(X,y, weights)\n",
    "mlp.get_weights()"
   ]
  },
  {
   "cell_type": "code",
   "execution_count": 12,
   "metadata": {},
   "outputs": [
    {
     "data": {
      "text/plain": [
       "MLP(hidden_layer_width=2, lr=1, output_nodes=2, shuffle=False)"
      ]
     },
     "execution_count": 12,
     "metadata": {},
     "output_type": "execute_result"
    }
   ],
   "source": [
    "#Test homework with one hot\n",
    "X = np.array([[0.0,0.0], [0.0,1.0]])\n",
    "y = np.array([[1.0],[0.0]])\n",
    "\n",
    "onehot_encoder = OneHotEncoder(sparse=False)\n",
    "y = y.reshape(len(y), 1)\n",
    "y = onehot_encoder.fit_transform(y)\n",
    "\n",
    "w1 = np.ones((2, X.shape[1]))\n",
    "w2 = np.ones((y.shape[1], 2))\n",
    "\n",
    "mlp = MLP(lr=1,momentum=0,shuffle=False, deterministic=True, hidden_layer_width = 2, output_nodes=2)\n",
    "weights = (w1, w2)\n",
    "mlp.fit(X,y)\n",
    "#mlp.get_weights()"
   ]
  },
  {
   "cell_type": "code",
   "execution_count": 13,
   "metadata": {
    "id": "KgAyy82gixIF"
   },
   "outputs": [
    {
     "name": "stdout",
     "output_type": "stream",
     "text": [
      "  % Total    % Received % Xferd  Average Speed   Time    Time     Time  Current\n",
      "                                 Dload  Upload   Total   Spent    Left  Speed\n",
      "100   197  100   197    0     0   1807      0 --:--:-- --:--:-- --:--:--  1807\n"
     ]
    },
    {
     "data": {
      "text/plain": [
       "(array([[ 0.04020103, -0.07072882],\n",
       "        [ 0.04020103, -0.07072882],\n",
       "        [ 0.04020103, -0.07072882],\n",
       "        [ 0.04020103, -0.07072882]]),\n",
       " array([0.95961768, 0.95961768, 0.95961768, 0.95961768]),\n",
       " array([[-0.08603968, -0.08603968, -0.08603968, -0.08603968]]),\n",
       " array([-0.13216818]))"
      ]
     },
     "execution_count": 13,
     "metadata": {},
     "output_type": "execute_result"
    }
   ],
   "source": [
    "# Debug one output\n",
    "!curl https://raw.githubusercontent.com/cs472ta/CS472/master/datasets/linsep2nonorigin.arff --output debug-dataset.arff\n",
    "data = arff.loadarff('debug-dataset.arff')\n",
    "df = pd.DataFrame(data[0])\n",
    "np_data = np.array(df)\n",
    "X = np_data[:,0:-1]\n",
    "y = np.reshape([int(s.decode()) for s in np_data[:,-1]], (-1, 1))\n",
    "\n",
    "w1 = np.zeros((4, X.shape[1]))\n",
    "w2 = np.zeros((y.shape[1], 4))\n",
    "\n",
    "weights = (w1, w2)\n",
    "\n",
    "# Train on debug data\n",
    "mlp = MLP(lr=.1,momentum=.5,shuffle=False, deterministic=True, hidden_layer_width = 4, output_nodes=1)\n",
    "mlp.fit(X,y, weights)\n",
    "mlp.get_weights()\n"
   ]
  },
  {
   "cell_type": "code",
   "execution_count": 14,
   "metadata": {},
   "outputs": [
    {
     "name": "stdout",
     "output_type": "stream",
     "text": [
      "  % Total    % Received % Xferd  Average Speed   Time    Time     Time  Current\n",
      "                                 Dload  Upload   Total   Spent    Left  Speed\n",
      "100   197  100   197    0     0   1894      0 --:--:-- --:--:-- --:--:--  1894\n"
     ]
    },
    {
     "data": {
      "text/plain": [
       "(array([[0.00050462, 0.00852637],\n",
       "        [0.00050462, 0.00852637],\n",
       "        [0.00050462, 0.00852637],\n",
       "        [0.00050462, 0.00852637]]),\n",
       " array([0.98543477, 0.98543477, 0.98543477, 0.98543477]),\n",
       " array([[-0.0200332 , -0.0200332 , -0.0200332 , -0.0200332 ],\n",
       "        [-0.04604025, -0.04604025, -0.04604025, -0.04604025]]),\n",
       " array([0.09631962, 0.09631962]))"
      ]
     },
     "execution_count": 14,
     "metadata": {},
     "output_type": "execute_result"
    }
   ],
   "source": [
    "#Debug one hot\n",
    "!curl https://raw.githubusercontent.com/cs472ta/CS472/master/datasets/linsep2nonorigin.arff --output debug-dataset.arff\n",
    "data = arff.loadarff('debug-dataset.arff')\n",
    "df = pd.DataFrame(data[0])\n",
    "np_data = np.array(df)\n",
    "\n",
    "X = np_data[:,0:-1]\n",
    "y = np.reshape([int(s.decode()) for s in np_data[:,-1]], (-1, 1))\n",
    "onehot_encoder = OneHotEncoder(sparse=False)\n",
    "y = y.reshape(len(y), 1)\n",
    "y = onehot_encoder.fit_transform(y)\n",
    "\n",
    "w1 = np.zeros((4, X.shape[1]))\n",
    "w2 = np.zeros((y.shape[1], 4))\n",
    "\n",
    "weights = (w1, w2)\n",
    "\n",
    "mlp = MLP(lr=.1,momentum=0,shuffle=False, deterministic=True, hidden_layer_width = 4, output_nodes=2)\n",
    "mlp.fit(X,y, weights)\n",
    "mlp.get_weights()"
   ]
  },
  {
   "cell_type": "markdown",
   "metadata": {
    "id": "kY3VNB1ui03N"
   },
   "source": [
    "### 1.1.2 Evaluation\n",
    "\n",
    "We will evaluate your model based on it's performance on the [Evaluation Dataset](https://raw.githubusercontent.com/cs472ta/CS472/master/datasets/data_banknote_authentication.arff)"
   ]
  },
  {
   "cell_type": "code",
   "execution_count": 23,
   "metadata": {
    "id": "2yAxA78QjDh2"
   },
   "outputs": [
    {
     "name": "stdout",
     "output_type": "stream",
     "text": [
      "  % Total    % Received % Xferd  Average Speed   Time    Time     Time  Current\n",
      "                                 Dload  Upload   Total   Spent    Left  Speed\n",
      "100 46685  100 46685    0     0   200k      0 --:--:-- --:--:-- --:--:--  200k\n"
     ]
    },
    {
     "ename": "NameError",
     "evalue": "name 'MLP' is not defined",
     "output_type": "error",
     "traceback": [
      "\u001b[0;31m---------------------------------------------------------------------------\u001b[0m",
      "\u001b[0;31mNameError\u001b[0m                                 Traceback (most recent call last)",
      "\u001b[0;32m<ipython-input-23-21cdb01f9287>\u001b[0m in \u001b[0;36m<module>\u001b[0;34m\u001b[0m\n\u001b[1;32m     13\u001b[0m \u001b[0mweights\u001b[0m \u001b[0;34m=\u001b[0m \u001b[0;34m(\u001b[0m\u001b[0mw1\u001b[0m\u001b[0;34m,\u001b[0m \u001b[0mw2\u001b[0m\u001b[0;34m)\u001b[0m\u001b[0;34m\u001b[0m\u001b[0;34m\u001b[0m\u001b[0m\n\u001b[1;32m     14\u001b[0m \u001b[0;34m\u001b[0m\u001b[0m\n\u001b[0;32m---> 15\u001b[0;31m \u001b[0mmlp\u001b[0m \u001b[0;34m=\u001b[0m \u001b[0mMLP\u001b[0m\u001b[0;34m(\u001b[0m\u001b[0mlr\u001b[0m\u001b[0;34m=\u001b[0m\u001b[0;36m.1\u001b[0m\u001b[0;34m,\u001b[0m\u001b[0mmomentum\u001b[0m\u001b[0;34m=\u001b[0m\u001b[0;36m.5\u001b[0m\u001b[0;34m,\u001b[0m\u001b[0mshuffle\u001b[0m\u001b[0;34m=\u001b[0m\u001b[0;32mFalse\u001b[0m\u001b[0;34m,\u001b[0m \u001b[0mdeterministic\u001b[0m\u001b[0;34m=\u001b[0m\u001b[0;32mTrue\u001b[0m\u001b[0;34m,\u001b[0m \u001b[0mhidden_layer_width\u001b[0m \u001b[0;34m=\u001b[0m \u001b[0;36m4\u001b[0m\u001b[0;34m,\u001b[0m \u001b[0moutput_nodes\u001b[0m\u001b[0;34m=\u001b[0m\u001b[0;36m2\u001b[0m\u001b[0;34m)\u001b[0m\u001b[0;34m\u001b[0m\u001b[0;34m\u001b[0m\u001b[0m\n\u001b[0m\u001b[1;32m     16\u001b[0m \u001b[0mmlp\u001b[0m\u001b[0;34m.\u001b[0m\u001b[0mfit\u001b[0m\u001b[0;34m(\u001b[0m\u001b[0mX\u001b[0m\u001b[0;34m,\u001b[0m\u001b[0my\u001b[0m\u001b[0;34m)\u001b[0m\u001b[0;34m\u001b[0m\u001b[0;34m\u001b[0m\u001b[0m\n\u001b[1;32m     17\u001b[0m \u001b[0mmlp\u001b[0m\u001b[0;34m.\u001b[0m\u001b[0mget_weights\u001b[0m\u001b[0;34m(\u001b[0m\u001b[0;34m)\u001b[0m\u001b[0;34m\u001b[0m\u001b[0;34m\u001b[0m\u001b[0m\n",
      "\u001b[0;31mNameError\u001b[0m: name 'MLP' is not defined"
     ]
    }
   ],
   "source": [
    "!curl https://raw.githubusercontent.com/cs472ta/CS472/master/datasets/data_banknote_authentication.arff --output dataset.arff\n",
    "data = arff.loadarff('dataset.arff')\n",
    "df = pd.DataFrame(data[0])\n",
    "np_data = np.array(df)\n",
    "X = np_data[:,0:-1]\n",
    "y = np.reshape([int(s.decode()) for s in np_data[:,-1]], (-1, 1))\n",
    "\n",
    "onehot_encoder = OneHotEncoder(sparse=False)\n",
    "y = y.reshape(len(y), 1)\n",
    "y = onehot_encoder.fit_transform(y)\n",
    "w1 = np.zeros((4, X.shape[1]))\n",
    "w2 = np.zeros((y.shape[1], 4))\n",
    "weights = (w1, w2)\n",
    "\n",
    "mlp = MLP(lr=.1,momentum=.5,shuffle=False, deterministic=True, hidden_layer_width = 4, output_nodes=2)\n",
    "mlp.fit(X,y)\n",
    "mlp.get_weights()\n"
   ]
  },
  {
   "cell_type": "markdown",
   "metadata": {
    "id": "9vWiTdlbR2Xh"
   },
   "source": [
    "## 2. (10%) Backpropagation on the Iris Classification problem.\n",
    "\n",
    "Load the Iris Dataset [Iris Dataset](https://raw.githubusercontent.com/cs472ta/CS472/master/datasets/iris.arff)\n",
    "\n",
    "Parameters:\n",
    "- One layer of hidden nodes with the number of hidden nodes being twice the number of inputs.\n",
    "- Use a 80/20 split of the data for the training/test set.\n",
    "- Use a learning rate of 0.1\n",
    "- Use a validation set (15% of the training set) taken from the training set for your stopping criteria\n",
    "- Create one graph with MSE (mean squared error) over epochs from the training set and validation set\n",
    "- Create one graph with classification accuracy (% classified correctly) over epochs from the training set and validation set\n",
    "- Print out your test set accuracy\n",
    "\n",
    "The results for the different measurables should be shown with a different color, line type, etc. Typical backpropagation accuracies for the Iris data set are 85-95%.\n",
    "\n",
    "---"
   ]
  },
  {
   "cell_type": "code",
   "execution_count": 16,
   "metadata": {
    "id": "4SSoasDQSKXb"
   },
   "outputs": [
    {
     "name": "stdout",
     "output_type": "stream",
     "text": [
      "  % Total    % Received % Xferd  Average Speed   Time    Time     Time  Current\n",
      "                                 Dload  Upload   Total   Spent    Left  Speed\n",
      "100  7485  100  7485    0     0  69953      0 --:--:-- --:--:-- --:--:-- 69305\n"
     ]
    },
    {
     "ename": "ValueError",
     "evalue": "shapes (1,3) and (2,4) not aligned: 3 (dim 1) != 2 (dim 0)",
     "output_type": "error",
     "traceback": [
      "\u001b[0;31m---------------------------------------------------------------------------\u001b[0m",
      "\u001b[0;31mValueError\u001b[0m                                Traceback (most recent call last)",
      "\u001b[0;32m<ipython-input-16-b1b3bff54e70>\u001b[0m in \u001b[0;36m<module>\u001b[0;34m\u001b[0m\n\u001b[1;32m     14\u001b[0m \u001b[0;34m\u001b[0m\u001b[0m\n\u001b[1;32m     15\u001b[0m \u001b[0mmlp\u001b[0m \u001b[0;34m=\u001b[0m \u001b[0mMLP\u001b[0m\u001b[0;34m(\u001b[0m\u001b[0mlr\u001b[0m\u001b[0;34m=\u001b[0m\u001b[0;36m.1\u001b[0m\u001b[0;34m,\u001b[0m\u001b[0mmomentum\u001b[0m\u001b[0;34m=\u001b[0m\u001b[0;36m.5\u001b[0m\u001b[0;34m,\u001b[0m\u001b[0mshuffle\u001b[0m\u001b[0;34m=\u001b[0m\u001b[0;32mFalse\u001b[0m\u001b[0;34m,\u001b[0m \u001b[0mdeterministic\u001b[0m\u001b[0;34m=\u001b[0m\u001b[0;32mFalse\u001b[0m\u001b[0;34m,\u001b[0m \u001b[0mhidden_layer_width\u001b[0m \u001b[0;34m=\u001b[0m \u001b[0;36m8\u001b[0m\u001b[0;34m,\u001b[0m \u001b[0moutput_nodes\u001b[0m\u001b[0;34m=\u001b[0m\u001b[0;36m3\u001b[0m\u001b[0;34m)\u001b[0m\u001b[0;34m\u001b[0m\u001b[0;34m\u001b[0m\u001b[0m\n\u001b[0;32m---> 16\u001b[0;31m \u001b[0mmlp\u001b[0m\u001b[0;34m.\u001b[0m\u001b[0mfit\u001b[0m\u001b[0;34m(\u001b[0m\u001b[0mX\u001b[0m\u001b[0;34m,\u001b[0m\u001b[0my\u001b[0m\u001b[0;34m)\u001b[0m\u001b[0;34m\u001b[0m\u001b[0;34m\u001b[0m\u001b[0m\n\u001b[0m\u001b[1;32m     17\u001b[0m \u001b[0mmlp\u001b[0m\u001b[0;34m.\u001b[0m\u001b[0mget_weights\u001b[0m\u001b[0;34m(\u001b[0m\u001b[0;34m)\u001b[0m\u001b[0;34m\u001b[0m\u001b[0;34m\u001b[0m\u001b[0m\n\u001b[1;32m     18\u001b[0m \u001b[0;34m\u001b[0m\u001b[0m\n",
      "\u001b[0;32m<ipython-input-10-4437643691b6>\u001b[0m in \u001b[0;36mfit\u001b[0;34m(self, X, y, initial_weights)\u001b[0m\n\u001b[1;32m     41\u001b[0m \u001b[0;34m\u001b[0m\u001b[0m\n\u001b[1;32m     42\u001b[0m             \u001b[0;32mwhile\u001b[0m\u001b[0;34m(\u001b[0m\u001b[0msameAccuracyEpochs\u001b[0m \u001b[0;34m<\u001b[0m \u001b[0;36m5\u001b[0m\u001b[0;34m)\u001b[0m\u001b[0;34m:\u001b[0m\u001b[0;34m\u001b[0m\u001b[0;34m\u001b[0m\u001b[0m\n\u001b[0;32m---> 43\u001b[0;31m                 \u001b[0mX\u001b[0m\u001b[0;34m,\u001b[0m \u001b[0my\u001b[0m \u001b[0;34m=\u001b[0m \u001b[0mself\u001b[0m\u001b[0;34m.\u001b[0m\u001b[0mperform_epoch\u001b[0m\u001b[0;34m(\u001b[0m\u001b[0mx_train\u001b[0m\u001b[0;34m,\u001b[0m\u001b[0my_train\u001b[0m\u001b[0;34m)\u001b[0m\u001b[0;34m\u001b[0m\u001b[0;34m\u001b[0m\u001b[0m\n\u001b[0m\u001b[1;32m     44\u001b[0m                 \u001b[0mepochs\u001b[0m \u001b[0;34m+=\u001b[0m \u001b[0;36m1\u001b[0m\u001b[0;34m\u001b[0m\u001b[0;34m\u001b[0m\u001b[0m\n\u001b[1;32m     45\u001b[0m                 \u001b[0maccuracy\u001b[0m \u001b[0;34m=\u001b[0m \u001b[0mself\u001b[0m\u001b[0;34m.\u001b[0m\u001b[0mscore\u001b[0m\u001b[0;34m(\u001b[0m\u001b[0mx_validate\u001b[0m\u001b[0;34m,\u001b[0m \u001b[0my_validate\u001b[0m\u001b[0;34m)\u001b[0m\u001b[0;34m\u001b[0m\u001b[0;34m\u001b[0m\u001b[0m\n",
      "\u001b[0;32m<ipython-input-10-4437643691b6>\u001b[0m in \u001b[0;36mperform_epoch\u001b[0;34m(self, X, y)\u001b[0m\n\u001b[1;32m     62\u001b[0m \u001b[0;34m\u001b[0m\u001b[0m\n\u001b[1;32m     63\u001b[0m             \u001b[0;31m# Backprop\u001b[0m\u001b[0;34m\u001b[0m\u001b[0;34m\u001b[0m\u001b[0;34m\u001b[0m\u001b[0m\n\u001b[0;32m---> 64\u001b[0;31m             \u001b[0mself\u001b[0m\u001b[0;34m.\u001b[0m\u001b[0mbackward_propagation\u001b[0m\u001b[0;34m(\u001b[0m\u001b[0moutputs\u001b[0m\u001b[0;34m,\u001b[0m \u001b[0mt\u001b[0m\u001b[0;34m,\u001b[0m \u001b[0mdata_row\u001b[0m\u001b[0;34m)\u001b[0m\u001b[0;34m\u001b[0m\u001b[0;34m\u001b[0m\u001b[0m\n\u001b[0m\u001b[1;32m     65\u001b[0m             \u001b[0mindex\u001b[0m \u001b[0;34m+=\u001b[0m \u001b[0;36m1\u001b[0m\u001b[0;34m\u001b[0m\u001b[0;34m\u001b[0m\u001b[0m\n\u001b[1;32m     66\u001b[0m         \u001b[0;32mif\u001b[0m \u001b[0mself\u001b[0m\u001b[0;34m.\u001b[0m\u001b[0mshuffle\u001b[0m\u001b[0;34m:\u001b[0m\u001b[0;34m\u001b[0m\u001b[0;34m\u001b[0m\u001b[0m\n",
      "\u001b[0;32m<ipython-input-10-4437643691b6>\u001b[0m in \u001b[0;36mbackward_propagation\u001b[0;34m(self, outputs, t, data_row)\u001b[0m\n\u001b[1;32m     89\u001b[0m         \u001b[0mdb2\u001b[0m \u001b[0;34m=\u001b[0m \u001b[0mnp\u001b[0m\u001b[0;34m.\u001b[0m\u001b[0msum\u001b[0m\u001b[0;34m(\u001b[0m\u001b[0md2\u001b[0m\u001b[0;34m,\u001b[0m \u001b[0maxis\u001b[0m\u001b[0;34m=\u001b[0m\u001b[0;36m1\u001b[0m\u001b[0;34m,\u001b[0m \u001b[0mkeepdims\u001b[0m\u001b[0;34m=\u001b[0m\u001b[0;32mTrue\u001b[0m\u001b[0;34m)\u001b[0m\u001b[0;34m\u001b[0m\u001b[0;34m\u001b[0m\u001b[0m\n\u001b[1;32m     90\u001b[0m \u001b[0;34m\u001b[0m\u001b[0m\n\u001b[0;32m---> 91\u001b[0;31m         \u001b[0md1\u001b[0m \u001b[0;34m=\u001b[0m \u001b[0mnp\u001b[0m\u001b[0;34m.\u001b[0m\u001b[0mmultiply\u001b[0m\u001b[0;34m(\u001b[0m\u001b[0mnp\u001b[0m\u001b[0;34m.\u001b[0m\u001b[0mdot\u001b[0m\u001b[0;34m(\u001b[0m\u001b[0md2\u001b[0m\u001b[0;34m,\u001b[0m \u001b[0mw2\u001b[0m\u001b[0;34m)\u001b[0m\u001b[0;34m,\u001b[0m \u001b[0msigmoid_prime\u001b[0m\u001b[0;34m(\u001b[0m\u001b[0ma1\u001b[0m\u001b[0;34m)\u001b[0m\u001b[0;34m)\u001b[0m\u001b[0;34m\u001b[0m\u001b[0;34m\u001b[0m\u001b[0m\n\u001b[0m\u001b[1;32m     92\u001b[0m \u001b[0;34m\u001b[0m\u001b[0m\n\u001b[1;32m     93\u001b[0m         \u001b[0mdata_row\u001b[0m \u001b[0;34m=\u001b[0m \u001b[0mnp\u001b[0m\u001b[0;34m.\u001b[0m\u001b[0mexpand_dims\u001b[0m\u001b[0;34m(\u001b[0m\u001b[0mdata_row\u001b[0m\u001b[0;34m,\u001b[0m \u001b[0maxis\u001b[0m\u001b[0;34m=\u001b[0m\u001b[0;36m0\u001b[0m\u001b[0;34m)\u001b[0m\u001b[0;34m\u001b[0m\u001b[0;34m\u001b[0m\u001b[0m\n",
      "\u001b[0;32m<__array_function__ internals>\u001b[0m in \u001b[0;36mdot\u001b[0;34m(*args, **kwargs)\u001b[0m\n",
      "\u001b[0;31mValueError\u001b[0m: shapes (1,3) and (2,4) not aligned: 3 (dim 1) != 2 (dim 0)"
     ]
    }
   ],
   "source": [
    "# Iris Classification\n",
    "!curl https://raw.githubusercontent.com/cs472ta/CS472/master/datasets/iris.arff --output debug-dataset.arff\n",
    "data = arff.loadarff('debug-dataset.arff')\n",
    "df = pd.DataFrame(data[0])\n",
    "np_data = np.array(df)\n",
    "X = np_data[:,0:-1]\n",
    "y = np.reshape([str(s.decode('utf-8')) for s in np_data[:,-1]], (-1, 1))\n",
    "\n",
    "onehot_encoder = OneHotEncoder(sparse=False)\n",
    "y = y.reshape(len(y), 1)\n",
    "y = onehot_encoder.fit_transform(y)\n",
    "x_train,x_test,y_train,y_test=train_test_split(X,y,test_size=0.2)\n",
    "#print(y)\n",
    "\n",
    "mlp = MLP(lr=.1,momentum=.5,shuffle=False, deterministic=False, hidden_layer_width = 8, output_nodes=3)\n",
    "mlp.fit(X,y)\n",
    "mlp.get_weights()\n",
    "\n",
    "#bad, x_validate, bad, y_validate = train_test_split(x_train,y_train,test_size=.15)\n",
    "#print(x_validate, y_validate)"
   ]
  },
  {
   "cell_type": "markdown",
   "metadata": {
    "id": "SIRG42TgSR4x"
   },
   "source": [
    "## 3. (10%) Working with the Vowel Dataset - Learning Rate\n",
    "\n",
    "Load the Vowel Dataset [Vowel Dataset](https://raw.githubusercontent.com/cs472ta/CS472/master/datasets/vowel.arff)\n",
    "\n",
    "- Use one layer of hidden nodes with the number of hidden nodes being twice the number of inputs.\n",
    "- Use random 80/20 splits of the data for the training/test set.\n",
    "- Use a validation set (15% of the training set) taken from the training set for your stopping criteria\n",
    "- Try some different learning rates (LR). Note that each LR will probably require a different number of epochs to learn. \n",
    "\n",
    "- For each LR you test, plot their validation's set MSE over Epochs on the same graph. Graph 4-5 different LRs and make them different enough to see a difference between them.\n",
    "\n",
    "In general, whenever you are testing a parameter such as LR, # of hidden nodes, etc., test values until no more improvement is found. For example, if 20 hidden nodes did better than 10, you would not stop at 20, but would try 40, etc., until you no longer get improvement.\n",
    "\n",
    "If you would like you may average the results of multiple initial conditions (e.g. 3) per LR, and that obviously would give more accurate results.\n",
    "\n",
    "<img src=https://raw.githubusercontent.com/cs472ta/CS472/master/images/backpropagation/backprop_val_set_MSE_vs_epochs.png width=500 height=500  align=\"left\">"
   ]
  },
  {
   "cell_type": "code",
   "execution_count": null,
   "metadata": {
    "id": "KBGUn43ASiXW"
   },
   "outputs": [],
   "source": [
    "# Train on each dataset\n",
    "!curl https://raw.githubusercontent.com/cs472ta/CS472/master/datasets/vowel.arff --output dataset.arff\n",
    "data = arff.loadarff('dataset.arff')\n",
    "df = pd.DataFrame(data[0])\n",
    "np_data = np.array(df)\n",
    "X = np_data[:,3:-1]\n",
    "y = np.reshape([str(s.decode('utf-8')) for s in np_data[:,-1]], (-1, 1))\n",
    "onehot_encoder = OneHotEncoder(sparse=False)\n",
    "y = y.reshape(len(y), 1)\n",
    "onehot_encoded = onehot_encoder.fit_transform(y)\n",
    "x_train,x_test,y_train,y_test=train_test_split(X,onehot_encoded,test_size=0.2)\n",
    "#print(x_train)\n",
    "bad, x_validate, bad, y_validate = train_test_split(x_train,y_train,test_size=.15)\n",
    "print(x_validate, y_validate)"
   ]
  },
  {
   "cell_type": "markdown",
   "metadata": {
    "id": "mOteTlV6S0bq"
   },
   "source": [
    "## 3.1 (5%) Working with the Vowel Dataset - Intuition\n",
    "- Discuss the effect of varying learning rates. \n",
    "- Discuss why the vowel data set might be more difficult than Iris\n",
    "    - Report both datasets' baseline accuracies and best **test** set accuracies. \n",
    "- Consider which of the vowel dataset's given input features you should actually use (Train/test, speaker, gender, ect) and discuss why you chose the ones you did.\n",
    "\n",
    "Typical backpropagation accuracies for the Vowel data set are above 75%.\n",
    "\n"
   ]
  },
  {
   "cell_type": "markdown",
   "metadata": {
    "id": "qmq9GSbJS8k2"
   },
   "source": [
    "The vowel data set may be more difficult because it has more outputs, and those outputs may be heavily influenced by the speaker of the vowels, which isn't generalizable. \n",
    "\n",
    "I don't think train/test or speaker should be used, because they are not generalizable to the population. It doesn't make sense that the output would change based on name, because we don't pronounce words differently because of our names (unless we could tie it to nationality). Same with train/test, it has no logical bearing on the output. \n",
    "\n",
    "However, gender could prove to have an effect, so I would leave it in.\n"
   ]
  },
  {
   "cell_type": "markdown",
   "metadata": {
    "id": "SIRG42TgSR4x"
   },
   "source": [
    "## 3.2 (10%) Working with the Vowel Dataset - Hidden Layer Nodes\n",
    "\n",
    "Using the best LR you discovered, experiment with different numbers of hidden nodes.\n",
    "\n",
    "- Start with 1 hidden node, then 2, and then double them for each test until you get no more improvement in accuracy. \n",
    "- For each number of hidden nodes find the best validation set solution (in terms of validation set MSE).  \n",
    "- Create one graph with MSE for the training set and validation set on the y-axis and # of hidden nodes on the x-axis.\n",
    "- Report the final test set accuracy for every # of hidden nodes you experimented on"
   ]
  },
  {
   "cell_type": "code",
   "execution_count": 3,
   "metadata": {
    "id": "qmq9GSbJS8k2"
   },
   "outputs": [
    {
     "name": "stdout",
     "output_type": "stream",
     "text": [
      "  % Total    % Received % Xferd  Average Speed   Time    Time     Time  Current\n",
      "                                 Dload  Upload   Total   Spent    Left  Speed\n",
      "100 91402  100 91402    0     0   708k      0 --:--:-- --:--:-- --:--:--  708k\n"
     ]
    },
    {
     "data": {
      "image/png": "[encoded data removed]",
      "text/plain": [
       "<Figure size 432x288 with 1 Axes>"
      ]
     },
     "metadata": {
      "needs_background": "light"
     },
     "output_type": "display_data"
    }
   ],
   "source": [
    "!curl https://raw.githubusercontent.com/cs472ta/CS472/master/datasets/vowel.arff --output dataset.arff\n",
    "data = arff.loadarff('dataset.arff')\n",
    "df = pd.DataFrame(data[0])\n",
    "le = LabelEncoder()\n",
    "df = df.apply(le.fit_transform)\n",
    "np_data = np.array(df)\n",
    "X = np_data[:,2:-1]\n",
    "y = np_data[:,-1]\n",
    "\n",
    "onehot_encoder = OneHotEncoder(sparse=False)\n",
    "y = y.reshape(len(y), 1)\n",
    "y = onehot_encoder.fit_transform(y)\n",
    "\n",
    "X_train,X_test,y_train,y_test=train_test_split(X, y, stratify=y, random_state=1)\n",
    "\n",
    "#clf = MLPClassifier(random_state=1, hidden_layer_sizes=2048).fit(X_train, y_train)\n",
    "#print(clf.n_iter_)\n",
    "#print(clf.score(X_test, y_test))\n",
    "\n",
    "# I mapped the sklearn accuracy for number of hidden nodes\n",
    "\n",
    "nodes = [1,2,4,8,16,32,64,128,256,512, 1024]\n",
    "accuracy = [0, 0, .012, .012, .205, .343, .343, .488, .616, .698, .843]\n",
    "plt.title('Hidden Layer Nodes v Accuracy')\n",
    "plt.xlabel('Nodes')\n",
    "plt.ylabel('Accuracy')\n",
    "plt.plot(nodes, accuracy)\n",
    "plt.show()\n"
   ]
  },
  {
   "cell_type": "markdown",
   "metadata": {
    "id": "SIRG42TgSR4x"
   },
   "source": [
    "## 3.3 (10%) Working with the Vowel Dataset - Momentum\n",
    "\n",
    "Try some different momentum terms using the best number of hidden nodes and LR from your earlier experiments.\n",
    "\n",
    "- Create a graph similar to step 3.2, but with momentum on the x-axis and number of epochs until validation set convergence on the y-axis.\n",
    "- You are trying to see how much momentum speeds up learning. "
   ]
  },
  {
   "cell_type": "code",
   "execution_count": 17,
   "metadata": {
    "id": "qmq9GSbJS8k2"
   },
   "outputs": [
    {
     "name": "stdout",
     "output_type": "stream",
     "text": [
      "  % Total    % Received % Xferd  Average Speed   Time    Time     Time  Current\n",
      "                                 Dload  Upload   Total   Spent    Left  Speed\n",
      "100 91402  100 91402    0     0   671k      0 --:--:-- --:--:-- --:--:--  676k\n"
     ]
    },
    {
     "data": {
      "image/png": "[encoded data removed]",
      "text/plain": [
       "<Figure size 432x288 with 1 Axes>"
      ]
     },
     "metadata": {
      "needs_background": "light"
     },
     "output_type": "display_data"
    }
   ],
   "source": [
    "!curl https://raw.githubusercontent.com/cs472ta/CS472/master/datasets/vowel.arff --output dataset.arff\n",
    "data = arff.loadarff('dataset.arff')\n",
    "df = pd.DataFrame(data[0])\n",
    "le = LabelEncoder()\n",
    "df = df.apply(le.fit_transform)\n",
    "np_data = np.array(df)\n",
    "X = np_data[:,2:-1]\n",
    "y = np_data[:,-1]\n",
    "\n",
    "onehot_encoder = OneHotEncoder(sparse=False)\n",
    "y = y.reshape(len(y), 1)\n",
    "y = onehot_encoder.fit_transform(y)\n",
    "\n",
    "X_train,X_test,y_train,y_test=train_test_split(X, y, stratify=y, random_state=1)\n",
    "\n",
    "#clf = MLPClassifier(random_state=1, hidden_layer_sizes=1024, momentum=0.9, max_iter=1000).fit(X_train, y_train)\n",
    "#print(clf.n_iter_)\n",
    "#print(clf.score(X_test, y_test))\n",
    "\n",
    "momentum = [.1,.2,.3,.4,.5,.6,.7,.8,.9,]\n",
    "epochs = [259, 259, 259, 259, 259, 259, 259, 259, 259]\n",
    "plt.title('Momentum v Epochs')\n",
    "plt.xlabel('Momentum')\n",
    "plt.ylabel('Epochs')\n",
    "plt.plot(momentum, epochs)\n",
    "plt.show()\n",
    "\n",
    "# When I tried this with the sklearn MLP, the momentum had no effect with 1024 hidden layer nodes and lr=.001"
   ]
  },
  {
   "cell_type": "markdown",
   "metadata": {
    "id": "oBBmeNQ7jvcQ"
   },
   "source": [
    "## 4.1 (10%) Use the scikit-learn (SK) version of the MLP classifier on the Iris and Vowel data sets.  \n",
    "\n",
    "You do not need to go through all the steps above, nor graph results. Compare results (accuracy and learning speed) between your version and theirs for some selection of hyper-parameters. Try different hyper-parameters and comment on their effect.\n",
    "\n",
    "At a minimum, try\n",
    "\n",
    "- number of hidden nodes and layers\n",
    "- different activation functions\n",
    "- learning rate\n",
    "- regularization and parameters\n",
    "- momentum (and try nesterov)\n",
    "- early stopping"
   ]
  },
  {
   "cell_type": "code",
   "execution_count": 20,
   "metadata": {
    "id": "OFQv70W2VyqJ"
   },
   "outputs": [
    {
     "name": "stdout",
     "output_type": "stream",
     "text": [
      "  % Total    % Received % Xferd  Average Speed   Time    Time     Time  Current\n",
      "                                 Dload  Upload   Total   Spent    Left  Speed\n",
      "100  7485  100  7485    0     0  27021      0 --:--:-- --:--:-- --:--:-- 27021\n"
     ]
    },
    {
     "name": "stderr",
     "output_type": "stream",
     "text": [
      "/home/brandon/.local/lib/python3.8/site-packages/sklearn/neural_network/_multilayer_perceptron.py:614: ConvergenceWarning: Stochastic Optimizer: Maximum iterations (200) reached and the optimization hasn't converged yet.\n",
      "  warnings.warn(\n"
     ]
    },
    {
     "name": "stdout",
     "output_type": "stream",
     "text": [
      "200\n",
      "0.631578947368421\n"
     ]
    },
    {
     "name": "stderr",
     "output_type": "stream",
     "text": [
      "/home/brandon/.local/lib/python3.8/site-packages/sklearn/neural_network/_multilayer_perceptron.py:614: ConvergenceWarning: Stochastic Optimizer: Maximum iterations (200) reached and the optimization hasn't converged yet.\n",
      "  warnings.warn(\n"
     ]
    },
    {
     "name": "stdout",
     "output_type": "stream",
     "text": [
      "200\n",
      "0.9210526315789473\n"
     ]
    },
    {
     "name": "stderr",
     "output_type": "stream",
     "text": [
      "/home/brandon/.local/lib/python3.8/site-packages/sklearn/neural_network/_multilayer_perceptron.py:614: ConvergenceWarning: Stochastic Optimizer: Maximum iterations (200) reached and the optimization hasn't converged yet.\n",
      "  warnings.warn(\n"
     ]
    },
    {
     "name": "stdout",
     "output_type": "stream",
     "text": [
      "200\n",
      "1.0\n",
      "140\n",
      "0.9736842105263158\n"
     ]
    },
    {
     "name": "stderr",
     "output_type": "stream",
     "text": [
      "/home/brandon/.local/lib/python3.8/site-packages/sklearn/neural_network/_multilayer_perceptron.py:614: ConvergenceWarning: Stochastic Optimizer: Maximum iterations (200) reached and the optimization hasn't converged yet.\n",
      "  warnings.warn(\n",
      "/home/brandon/.local/lib/python3.8/site-packages/sklearn/neural_network/_multilayer_perceptron.py:614: ConvergenceWarning: Stochastic Optimizer: Maximum iterations (200) reached and the optimization hasn't converged yet.\n",
      "  warnings.warn(\n"
     ]
    },
    {
     "name": "stdout",
     "output_type": "stream",
     "text": [
      "200\n",
      "0.6578947368421053\n",
      "200\n",
      "0.6578947368421053\n"
     ]
    },
    {
     "name": "stderr",
     "output_type": "stream",
     "text": [
      "/home/brandon/.local/lib/python3.8/site-packages/sklearn/neural_network/_multilayer_perceptron.py:614: ConvergenceWarning: Stochastic Optimizer: Maximum iterations (200) reached and the optimization hasn't converged yet.\n",
      "  warnings.warn(\n",
      "/home/brandon/.local/lib/python3.8/site-packages/sklearn/neural_network/_multilayer_perceptron.py:614: ConvergenceWarning: Stochastic Optimizer: Maximum iterations (200) reached and the optimization hasn't converged yet.\n",
      "  warnings.warn(\n"
     ]
    },
    {
     "name": "stdout",
     "output_type": "stream",
     "text": [
      "200\n",
      "0.6578947368421053\n",
      "200\n",
      "0.6578947368421053\n",
      "12\n",
      "0.21052631578947367\n",
      "200\n",
      "0.6578947368421053\n",
      "200\n",
      "0.9210526315789473\n"
     ]
    },
    {
     "name": "stderr",
     "output_type": "stream",
     "text": [
      "/home/brandon/.local/lib/python3.8/site-packages/sklearn/neural_network/_multilayer_perceptron.py:614: ConvergenceWarning: Stochastic Optimizer: Maximum iterations (200) reached and the optimization hasn't converged yet.\n",
      "  warnings.warn(\n",
      "/home/brandon/.local/lib/python3.8/site-packages/sklearn/neural_network/_multilayer_perceptron.py:614: ConvergenceWarning: Stochastic Optimizer: Maximum iterations (200) reached and the optimization hasn't converged yet.\n",
      "  warnings.warn(\n"
     ]
    }
   ],
   "source": [
    "#Load iris dataset\n",
    "!curl https://raw.githubusercontent.com/cs472ta/CS472/master/datasets/iris.arff --output dataset.arff\n",
    "data = arff.loadarff('dataset.arff')\n",
    "df = pd.DataFrame(data[0])\n",
    "np_data = np.array(df)\n",
    "X = np_data[:,0:-1]\n",
    "y = np.reshape([str(s.decode('utf-8')) for s in np_data[:,-1]], (-1, 1))\n",
    "\n",
    "onehot_encoder = OneHotEncoder(sparse=False)\n",
    "y = y.reshape(len(y), 1)\n",
    "y = onehot_encoder.fit_transform(y)\n",
    "X_train,X_test,y_train,y_test=train_test_split(X, y, stratify=y, random_state=1)\n",
    "\n",
    "# Load sklearn perceptron\n",
    "#clf = MLPClassifier(random_state=1, activation='logistic').fit(X_train, y_train)\n",
    "\n",
    "#print(clf.n_iter_)\n",
    "#print(clf.score(X_test, y_test))\n",
    "\n",
    "#clf = MLPClassifier(random_state=1,  activation='tanh').fit(X_train, y_train)\n",
    "\n",
    "#print(clf.n_iter_)\n",
    "#print(clf.score(X_test, y_test))\n",
    "\n",
    "#clf = MLPClassifier(random_state=1, learning_rate_init=.01).fit(X_train, y_train)\n",
    "\n",
    "#print(clf.n_iter_)\n",
    "#print(clf.score(X_test, y_test))\n",
    "\n",
    "#clf = MLPClassifier(random_state=1, learning_rate_init=.1).fit(X_train, y_train)\n",
    "\n",
    "#print(clf.n_iter_)\n",
    "#print(clf.score(X_test, y_test))\n",
    "\n",
    "#clf = MLPClassifier(random_state=1, alpha=.001).fit(X_train, y_train)\n",
    "\n",
    "#print(clf.n_iter_)\n",
    "#print(clf.score(X_test, y_test))\n",
    "\n",
    "#clf = MLPClassifier(random_state=1, momentum=.3).fit(X_train, y_train)\n",
    "\n",
    "#print(clf.n_iter_)\n",
    "#print(clf.score(X_test, y_test))\n",
    "\n",
    "#clf = MLPClassifier(random_state=1, momentum=.5).fit(X_train, y_train)\n",
    "\n",
    "#print(clf.n_iter_)\n",
    "#print(clf.score(X_test, y_test))\n",
    "\n",
    "#clf = MLPClassifier(random_state=1, nesterovs_momentum=False).fit(X_train, y_train)\n",
    "\n",
    "#print(clf.n_iter_)\n",
    "#print(clf.score(X_test, y_test))\n",
    "\n",
    "#clf = MLPClassifier(random_state=1, early_stopping=True).fit(X_train, y_train)\n",
    "\n",
    "#print(clf.n_iter_)\n",
    "#print(clf.score(X_test, y_test))\n",
    "\n",
    "#clf = MLPClassifier(random_state=1, hidden_layer_sizes=50).fit(X_train, y_train)\n",
    "\n",
    "#print(clf.n_iter_)\n",
    "#print(clf.score(X_test, y_test))\n",
    "\n",
    "#clf = MLPClassifier(random_state=1, hidden_layer_sizes=200).fit(X_train, y_train)\n",
    "\n",
    "#print(clf.n_iter_)\n",
    "#print(clf.score(X_test, y_test))\n",
    "\n",
    "\n",
    "# Results\n",
    "\n",
    "# logistic and tanh activation functions both didn't finish training in 200 iterations,\n",
    "# but tanh performed much better, .92 compared to .63\n",
    "\n",
    "# increasing the learning rate helped the model reach high accuracy much faster\n",
    "# with lr=.01, it reached 1.00 accuracy at 200 iters, and lr=.1 .97 accuracy at 140 iters\n",
    "\n",
    "#increasing alpha didn't increase accuracy over 200 iters, only got to .65\n",
    "\n",
    "#decreasing momemtum didn't affect the accuracy, we're still at .65 at 200 iters\n",
    "\n",
    "#toggling off nesterovs momentum didn't didn't change accuracy over 200 iters\n",
    "\n",
    "#early stopping did just that, stopping at just 12 iterations, with an accuracy of only .21\n",
    "\n",
    "#halfing the hidden nodes didn't change the accuracy, but doubling them increased the accuracy to \n",
    "# .92 after 200 iters\n",
    "\n",
    "#overall The parameters that had a positive effect when increased past their defaults were hidden layer size,\n",
    "# learning rate, and changinf the activation function to tanh"
   ]
  },
  {
   "cell_type": "markdown",
   "metadata": {
    "id": "BqSFAXwlk3Ms"
   },
   "source": [
    "*Record impressions*"
   ]
  },
  {
   "cell_type": "markdown",
   "metadata": {
    "id": "oBBmeNQ7jvcQ"
   },
   "source": [
    "## 4.2 (5%) Using the Iris Dataset automatically adjust hyper-parameters using your choice of grid/random search\n",
    "- Use a grid or random search approach across a reasonable subset of hyper-parameters from the above \n",
    "- Report your best accuracy and hyper-parameters. "
   ]
  },
  {
   "cell_type": "code",
   "execution_count": 8,
   "metadata": {
    "id": "OFQv70W2VyqJ"
   },
   "outputs": [
    {
     "name": "stdout",
     "output_type": "stream",
     "text": [
      "  % Total    % Received % Xferd  Average Speed   Time    Time     Time  Current\n",
      "                                 Dload  Upload   Total   Spent    Left  Speed\n",
      "100  7485  100  7485    0     0  29011      0 --:--:-- --:--:-- --:--:-- 29011\n",
      "1.0\n",
      "{'activation': 'logistic', 'early_stopping': False, 'hidden_layer_sizes': 5, 'learning_rate_init': 0.1, 'momentum': 0.7}\n",
      "0.9731225296442687\n"
     ]
    },
    {
     "name": "stderr",
     "output_type": "stream",
     "text": [
      "/home/brandon/.local/lib/python3.8/site-packages/sklearn/neural_network/_multilayer_perceptron.py:614: ConvergenceWarning: Stochastic Optimizer: Maximum iterations (200) reached and the optimization hasn't converged yet.\n",
      "  warnings.warn(\n"
     ]
    }
   ],
   "source": [
    "#Load iris dataset\n",
    "!curl https://raw.githubusercontent.com/cs472ta/CS472/master/datasets/iris.arff --output dataset.arff\n",
    "data = arff.loadarff('dataset.arff')\n",
    "df = pd.DataFrame(data[0])\n",
    "np_data = np.array(df)\n",
    "X = np_data[:,0:-1]\n",
    "y = np.reshape([str(s.decode('utf-8')) for s in np_data[:,-1]], (-1, 1))\n",
    "\n",
    "onehot_encoder = OneHotEncoder(sparse=False)\n",
    "y = y.reshape(len(y), 1)\n",
    "y = onehot_encoder.fit_transform(y)\n",
    "X_train,X_test,y_train,y_test=train_test_split(X, y, stratify=y, random_state=1)\n",
    "\n",
    "grid_param = {\n",
    "    'hidden_layer_sizes': [5, 10, 50, 100],\n",
    "    'activation': ['identity', 'logistic', 'tanh', 'relu'],\n",
    "    'learning_rate_init': [.001, .0001, .01, .1, .5],\n",
    "    'momentum': [.1, .3, .5, .7, .9],\n",
    "    'early_stopping': [True, False]\n",
    "}\n",
    "\n",
    "#clf = MLPClassifier()\n",
    "#grid_search = GridSearchCV(estimator=clf,\n",
    "#                     param_grid=grid_param,\n",
    "#                     scoring='accuracy',\n",
    "#                     n_jobs=-1)\n",
    "#result = grid_search.fit(X_train, y_train)\n",
    "#print(result.score(X_test, y_test))\n",
    "#print(grid_search.best_params_)\n",
    "#print(grid_search.best_score_)\n",
    "\n",
    "\n",
    "#Best params\n",
    "\n",
    "#activation logistic\n",
    "# early_stopping false\n",
    "# hidden_layer _sizes 5\n",
    "#learning_rate_init .1\n",
    "#momentum .7\n",
    "\n",
    "# best accuracy .973\n"
   ]
  },
  {
   "cell_type": "markdown",
   "metadata": {
    "id": "cTlK-kijk8Mg"
   },
   "source": [
    "## 5. (Optional 5% Extra credit) For the vowel data set, use the other hyper-parameter approach that you did not use in part 4.2 to find LR, # of hidden nodes, and momentum.  \n",
    "\n",
    "- Compare and discuss the values found with the ones you found in part 3.\n"
   ]
  },
  {
   "cell_type": "code",
   "execution_count": 7,
   "metadata": {},
   "outputs": [
    {
     "name": "stdout",
     "output_type": "stream",
     "text": [
      "  % Total    % Received % Xferd  Average Speed   Time    Time     Time  Current\n",
      "                                 Dload  Upload   Total   Spent    Left  Speed\n",
      "100 91402  100 91402    0     0   255k      0 --:--:-- --:--:-- --:--:--  254k\n",
      "0.8417508417508418\n",
      "{'hidden_layer_sizes': 236, 'learning_rate_init': 0.04595811305147845, 'momentum': 0.48240676532396043}\n",
      "0.8354707538317172\n"
     ]
    }
   ],
   "source": [
    "!curl https://raw.githubusercontent.com/cs472ta/CS472/master/datasets/vowel.arff --output dataset.arff\n",
    "data = arff.loadarff('dataset.arff')\n",
    "df = pd.DataFrame(data[0])\n",
    "np_data = np.array(df)\n",
    "X = np_data[:,3:-1]\n",
    "y = np.reshape([str(s.decode('utf-8')) for s in np_data[:,-1]], (-1, 1))\n",
    "onehot_encoder = OneHotEncoder(sparse=False)\n",
    "y = y.reshape(len(y), 1)\n",
    "y = onehot_encoder.fit_transform(y)\n",
    "#x_train,x_test,y_train,y_test=train_test_split(X,y, stratify=y, random_state=1)\n",
    "n_estimators = [100, 200, 300, 400, 500]\n",
    "max_features = ['auto', 'sqrt']\n",
    "max_depth = [5, 10, 20, 30, 40, 50]\n",
    "min_samples_split = [2, 5, 10]\n",
    "min_samples_leaf = [1, 2, 4]\n",
    "bootstrap = [True, False]\n",
    "\n",
    "X_train, X_test, y_train, y_test = train_test_split(X, y, test_size=0.3, random_state=1, stratify=y)\n",
    "\n",
    "space = {\n",
    "    'hidden_layer_sizes': [(sp_randint.rvs(1,500,1))],\n",
    "    'momentum': uniform(0.0001, 0.9),\n",
    "    'learning_rate_init': uniform(0.001, 0.9)}\n",
    "#clf = MLPClassifier()\n",
    "#random_search = RandomizedSearchCV(clf, space, n_iter=50, scoring='accuracy', n_jobs=-1, refit = True, random_state=1)\n",
    "\n",
    "#result = random_search.fit(X_train, y_train)\n",
    "#print(result.score(X_test, y_test))\n",
    "#print(random_search.best_params_)\n",
    "#print(random_search.best_score_)\n",
    "\n",
    "# Best params\n",
    "\n",
    "# hidden layer size 236\n",
    "# learning rate .046\n",
    "# momentum .48\n",
    "\n",
    "# best accuracy was .835"
   ]
  },
  {
   "cell_type": "markdown",
   "metadata": {
    "id": "BqSFAXwlk3Ms"
   },
   "source": [
    "*Discuss findings here*"
   ]
  }
 ],
 "metadata": {
  "colab": {
   "collapsed_sections": [],
   "name": "lab 1 - perceptron",
   "provenance": []
  },
  "kernelspec": {
   "display_name": "Python 3",
   "language": "python",
   "name": "python3"
  },
  "language_info": {
   "codemirror_mode": {
    "name": "ipython",
    "version": 3
   },
   "file_extension": ".py",
   "mimetype": "text/x-python",
   "name": "python",
   "nbconvert_exporter": "python",
   "pygments_lexer": "ipython3",
   "version": "3.8.5"
  }
 },
 "nbformat": 4,
 "nbformat_minor": 4
}
