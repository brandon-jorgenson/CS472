{
 "cells": [
  {
   "cell_type": "code",
   "execution_count": 57,
   "id": "sorted-flood",
   "metadata": {},
   "outputs": [],
   "source": [
    "import numpy as np\n",
    "from matplotlib import pyplot as plt"
   ]
  },
  {
   "cell_type": "code",
   "execution_count": 58,
   "id": "proved-interface",
   "metadata": {},
   "outputs": [
    {
     "data": {
      "image/png": "[encoded data removed]",
      "text/plain": [
       "<Figure size 432x288 with 1 Axes>"
      ]
     },
     "metadata": {
      "needs_background": "light"
     },
     "output_type": "display_data"
    }
   ],
   "source": [
    "data = np.array([[.2, -.3], [-1.1, 2], [1,-2.2], [.5, -1], [-.6, 1]])\n",
    "mean = np.mean(data.T, axis=1)\n",
    "centered = data - mean\n",
    "cov = np.cov(centered.T)\n",
    "eigvalues, eigvectors = np.linalg.eig(cov)\n",
    "\n",
    "sorted_eigvectors = sorted(list(zip(eigvalues, eigvectors)), reverse=True)\n",
    "top_eigvector = np.array([x[1] for x in sorted_eigvectors[:1]])\n",
    "normalized_eigvector = sorted([x/eigvalues.sum() for x in eigvalues], reverse=True)\n",
    "\n",
    "plt.bar([0,1], normalized_eigvector)\n",
    "plt.title('% info from each feature')\n",
    "plt.xlabel('PCs')\n",
    "plt.ylabel('Proportion of Variance')\n",
    "plt.show()\n",
    "\n",
    "# 99.89% of the total information is contained in the first PC"
   ]
  },
  {
   "cell_type": "code",
   "execution_count": null,
   "id": "combined-walter",
   "metadata": {},
   "outputs": [],
   "source": []
  },
  {
   "cell_type": "code",
   "execution_count": null,
   "id": "serial-closing",
   "metadata": {},
   "outputs": [],
   "source": []
  },
  {
   "cell_type": "code",
   "execution_count": null,
   "id": "molecular-falls",
   "metadata": {},
   "outputs": [],
   "source": []
  }
 ],
 "metadata": {
  "kernelspec": {
   "display_name": "Python 3",
   "language": "python",
   "name": "python3"
  },
  "language_info": {
   "codemirror_mode": {
    "name": "ipython",
    "version": 3
   },
   "file_extension": ".py",
   "mimetype": "text/x-python",
   "name": "python",
   "nbconvert_exporter": "python",
   "pygments_lexer": "ipython3",
   "version": "3.8.5"
  }
 },
 "nbformat": 4,
 "nbformat_minor": 5
}
