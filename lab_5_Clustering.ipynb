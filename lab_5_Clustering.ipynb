{
 "cells": [
  {
   "cell_type": "markdown",
   "metadata": {
    "id": "DVL7_bgmIAPR"
   },
   "source": [
    "# Unsupervised Learning: Clustering Lab\n",
    "\n",
    "\n",
    "\n"
   ]
  },
  {
   "cell_type": "code",
   "execution_count": 1,
   "metadata": {
    "id": "6ZbYjZZZ_yLV"
   },
   "outputs": [],
   "source": [
    "from sklearn.base import BaseEstimator, ClusterMixin\n",
    "from sklearn.cluster import AgglomerativeClustering, KMeans\n",
    "from sklearn.preprocessing import OneHotEncoder\n",
    "from sklearn.metrics import silhouette_score\n",
    "from sklearn.metrics import calinski_harabasz_score\n",
    "import numpy as np\n",
    "import matplotlib.pyplot as plt\n",
    "from scipy.io import arff\n",
    "import pandas as pd\n",
    "from sklearn.cluster import AgglomerativeClustering"
   ]
  },
  {
   "cell_type": "markdown",
   "metadata": {
    "id": "sCcEPx5VIORj"
   },
   "source": [
    "## 1. (50%) Implement the k-means clustering algorithm and the HAC (Hierarchical Agglomerative Clustering) algorithm.\n",
    "\n",
    "### 1.1.1 HAC\n",
    "\n",
    "### Code requirements \n",
    "- HAC should support both single link and complete link options.\n",
    "- HAC automatically generates all clusterings from n to 1.  To simplify the amount of output you may want to implement a mechanism to specify for which k values actual output will be generated.\n",
    "\n",
    "\n",
    "---\n",
    "The output should include the following:\n",
    "- The number of clusters (k).\n",
    "- The total SSE of the full clustering. \n",
    "\n",
    "\n",
    "For each cluster report include:\n",
    "\n",
    "\n",
    "- The centroid id.\n",
    "- The number of instances tied to that centroid. \n",
    "* The SSE of that cluster. (The sum squared error (SSE) of a single cluster is the sum of the squared euclidean distance of each cluster member to the cluster centroid.)\n",
    "---\n",
    "You only need to handle continuous features"
   ]
  },
  {
   "cell_type": "code",
   "execution_count": 2,
   "metadata": {
    "id": "_a2KSZ_7AN0G"
   },
   "outputs": [],
   "source": [
    "class HACClustering(BaseEstimator,ClusterMixin):\n",
    "\n",
    "    def __init__(self,k=3,link_type='single', normalize=True):\n",
    "        self.link_type = link_type\n",
    "        self.k = k\n",
    "        self.cluster_sizes = np.array([])\n",
    "        self.cluster_sse = np.array([])\n",
    "        self.total_cluster_sse = np.array([])\n",
    "        self.normalize = normalize\n",
    "        \n",
    "    def fit(self,X,y=None):\n",
    "        if y is not None:\n",
    "            X = np.c_[X, y]\n",
    "        if self.normalize:\n",
    "            X = self.normalize_X(X)\n",
    "        link_distances = np.array([])\n",
    "        centroids = np.copy(X[:self.k])\n",
    "        num_clusters = X.shape[0]\n",
    "        distances = np.array([np.linalg.norm(X - row, axis=1) for row in X])\n",
    "        orig_distances = np.copy(distances)\n",
    "        for i in range(len(orig_distances)):\n",
    "            orig_distances[i,:i+1] = np.inf\n",
    "                \n",
    "        while num_clusters != self.k:\n",
    "            link = self.link(distances)\n",
    "            link_distances = np.append(link_distances, distances[link])\n",
    "            distances = self.merge(link, distances)\n",
    "            num_clusters -= 1\n",
    "            \n",
    "        self.calculate_clusters(link_distances, orig_distances, X)\n",
    "        self.total_cluster_sse = np.sum(self.cluster_sse)\n",
    "        return self\n",
    "    \n",
    "    def calculate_clusters(self, links, distances, X):\n",
    "        row_tuples = np.array([])\n",
    "        for link in links:\n",
    "            row_tuples = np.append(row_tuples, np.where(distances == link))\n",
    "        clusters = [[0] for i in range(len(distances))]\n",
    "        for i in range(len(clusters)):\n",
    "            clusters[i] = [i]\n",
    "        for i in range(0, len(row_tuples), 2):\n",
    "            row_1 = row_tuples[i]\n",
    "            row_2 = row_tuples[i+1]\n",
    "            for j in range(len(clusters)):\n",
    "                if row_1 in clusters[j]:\n",
    "                    clusters = self.modify_clusters(row_2, clusters, j)\n",
    "                    break\n",
    "                if row_2 in clusters[j]:\n",
    "                    clusters = self.modify_clusters(row_1, clusters, j)\n",
    "                    break    \n",
    "        self.centroids = np.empty((0, X.shape[1]))\n",
    "        for cluster in clusters:\n",
    "            self.cluster_sizes = np.append(self.cluster_sizes, len(cluster))\n",
    "            cluster_points = []\n",
    "            for row in cluster:\n",
    "                cluster_points.append(X[row])\n",
    "            centroid = np.expand_dims(np.array(cluster_points).mean(0), axis=0)\n",
    "            self.centroids = np.vstack((self.centroids, centroid))\n",
    "            self.cluster_sse = np.append(self.cluster_sse, self.sse(centroid.flatten(), np.expand_dims(np.array(cluster_points), axis=0)))\n",
    "    \n",
    "    def modify_clusters(self, row, clusters, j):\n",
    "        for k in range(len(clusters)):\n",
    "            if row in clusters[k]:\n",
    "                if isinstance(clusters[k], list):\n",
    "                    clusters[j].extend(clusters[k])\n",
    "                else:\n",
    "                    clusters[j].append(clusters[k])\n",
    "                clusters.pop(k)\n",
    "                break\n",
    "        return clusters\n",
    "    \n",
    "    \n",
    "    def link(self, distances):\n",
    "        d_copy = np.copy(distances)\n",
    "        d_copy = np.where(d_copy==0, np.inf, d_copy)\n",
    "        return np.unravel_index(d_copy.argmin(), d_copy.shape)\n",
    "    \n",
    "    def merge(self, link, distances):\n",
    "        n = distances.shape[0]\n",
    "        m = np.array([distances[link[0]], distances[link[1]]])\n",
    "        if self.link_type == 'single':\n",
    "            m = np.min(m, axis=0)\n",
    "        else:\n",
    "            m = np.max(m, axis=0)\n",
    "        m = np.delete(m, m.argmin())\n",
    "        m = np.delete(m, m.argmin())\n",
    "        m = np.expand_dims(m, 0)\n",
    "        distances = np.delete(distances, link, axis=0)\n",
    "        distances = np.delete(distances, link, axis=1)\n",
    "        distances = np.reshape(distances, (n-2, n-2))\n",
    "        distances = np.c_[distances, m.T]\n",
    "        m = np.expand_dims(np.append(m, 0),0)\n",
    "        distances = np.r_[distances, m]\n",
    "        return distances\n",
    "\n",
    "    def sse(self, centroid, cluster):\n",
    "        distance = np.array([np.linalg.norm(cluster - centroid, ord=2, axis=1)])\n",
    "        distance_squared = np.square(distance)              \n",
    "        return np.sum(distance_squared)\n",
    "\n",
    "    def normalize_X(self, X):\n",
    "        index = 0\n",
    "        for col in X.T:\n",
    "            X[:,index] = (col - col.min()) / (col.max() - col.min())\n",
    "            index += 1\n",
    "        return X\n",
    "    \n",
    "    def print_clusters(self):\n",
    "        print(\"{:d}\".format(self.k))\n",
    "        print(\"{:.4f}\\n\".format(self.total_cluster_sse))\n",
    "        for i, centroid in enumerate(self.centroids):\n",
    "            print(np.array2string(centroid,precision=4,separator=\",\"))\n",
    "            print(\"{:.0f}\".format(self.cluster_sizes[i]))\n",
    "            print(\"{:.4f}\\n\".format(self.cluster_sse[i]))"
   ]
  },
  {
   "cell_type": "markdown",
   "metadata": {
    "id": "KibCIXIThpbE"
   },
   "source": [
    "### 1.1.2 Debug \n",
    "\n",
    "Debug your model by running it on the [Debug Dataset](https://raw.githubusercontent.com/cs472ta/CS472/master/datasets/abalone.arff)\n",
    "\n",
    "\n",
    "---\n",
    "The dataset was modified to be a lot smaller. The last datapoint should be on line 359 or the point 0.585,0.46,0.185,0.922,0.3635,0.213,0.285,10. The remaining points should be commented out.\n",
    "\n",
    "\n",
    "\n",
    "- Normalize Data\n",
    "- K = 5\n",
    "- Use the first k instances as the initial centroids\n",
    "- Use 4 decimal places and DO NOT ROUND when reporting SSE and centroid values.\n",
    "\n",
    "\n",
    "---\n",
    "Solutions in files:\n",
    "\n",
    "[Debug HAC Single.txt](https://raw.githubusercontent.com/cs472ta/CS472/master/debug_solutions/Debug%20HAC%20Single%20Link.txt)\n",
    "\n",
    "[Debug HAC Complete.txt](https://raw.githubusercontent.com/cs472ta/CS472/master/debug_solutions/Debug%20HAC%20Complete%20Link.txt)"
   ]
  },
  {
   "cell_type": "code",
   "execution_count": 75,
   "metadata": {},
   "outputs": [
    {
     "name": "stdout",
     "output_type": "stream",
     "text": [
      "  % Total    % Received % Xferd  Average Speed   Time    Time     Time  Current\n",
      "                                 Dload  Upload   Total   Spent    Left  Speed\n",
      "100  187k  100  187k    0     0   609k      0 --:--:-- --:--:-- --:--:--  609k\n",
      "5\n",
      "54.4392\n",
      "\n",
      "[0.599 ,0.5923,0.4915,0.2826,0.2682,0.2921,0.2316,0.3849]\n",
      "195\n",
      "54.3917\n",
      "\n",
      "[0.9189,0.9438,0.7105,0.7016,0.759 ,0.7222,0.4472,0.8824]\n",
      "1\n",
      "0.0000\n",
      "\n",
      "[1.    ,0.9831,0.8026,0.8343,0.6575,0.7825,0.9221,0.8824]\n",
      "2\n",
      "0.0475\n",
      "\n",
      "[1.    ,0.9888,0.7895,1.    ,1.    ,0.8915,0.7186,0.5882]\n",
      "1\n",
      "0.0000\n",
      "\n",
      "[0.9189,0.9888,0.8684,0.719 ,0.5797,0.7512,0.6432,0.9412]\n",
      "1\n",
      "0.0000\n",
      "\n",
      "5\n",
      "13.0824\n",
      "\n",
      "[0.6544,0.649 ,0.5256,0.2879,0.2815,0.3057,0.2288,0.3911]\n",
      "71\n",
      "3.8232\n",
      "\n",
      "[0.3661,0.3505,0.271 ,0.1008,0.1024,0.1058,0.0836,0.2116]\n",
      "67\n",
      "5.2786\n",
      "\n",
      "[0.7622,0.7658,0.6759,0.4265,0.4016,0.4536,0.3376,0.5217]\n",
      "38\n",
      "1.4989\n",
      "\n",
      "[0.8818,0.8904,0.7582,0.614 ,0.5433,0.5317,0.561 ,0.7794]\n",
      "16\n",
      "1.5328\n",
      "\n",
      "[0.9471,0.934 ,0.8158,0.7457,0.6434,0.7944,0.6457,0.625 ]\n",
      "8\n",
      "0.9490\n",
      "\n"
     ]
    }
   ],
   "source": [
    "# Load debug data\n",
    "!curl https://raw.githubusercontent.com/cs472ta/CS472/master/datasets/abalone.arff --output datasets.arff\n",
    "data = arff.loadarff('datasets.arff')\n",
    "df = pd.DataFrame(data[0])\n",
    "np_data = np.array(df)\n",
    "X = np_data[:,0:-1].astype(np.float64)\n",
    "y = np_data[:, -1].astype(np.float64)\n",
    "\n",
    "# Train on debug data, debug single\n",
    "kmean = HACClustering(k=5, normalize=True)\n",
    "kmean.fit(X, y)\n",
    "\n",
    "# Print clusters\n",
    "kmean.print_clusters()\n",
    "\n",
    "# Debug complete\n",
    "kmean = HACClustering(k=5, link_type='complete', normalize=True)\n",
    "kmean.fit(X, y)\n",
    "\n",
    "# Print clusters\n",
    "kmean.print_clusters()"
   ]
  },
  {
   "cell_type": "markdown",
   "metadata": {
    "id": "kY3VNB1ui03N"
   },
   "source": [
    "### 1.1.3 Evaluation\n",
    "\n",
    "We will evaluate your model based on its print_clusters() output using [Evaluation Dataset](https://raw.githubusercontent.com/cs472ta/CS472/master/datasets/seismic-bumps_train.arff)"
   ]
  },
  {
   "cell_type": "code",
   "execution_count": 76,
   "metadata": {
    "id": "2yAxA78QjDh2"
   },
   "outputs": [
    {
     "name": "stdout",
     "output_type": "stream",
     "text": [
      "  % Total    % Received % Xferd  Average Speed   Time    Time     Time  Current\n",
      "                                 Dload  Upload   Total   Spent    Left  Speed\n",
      "100  6392  100  6392    0     0  25365      0 --:--:-- --:--:-- --:--:-- 25365\n",
      "5\n",
      "22.4548\n",
      "\n",
      "[0.3159,0.3648,0.5145,0.349 ,0.3338,0.3077,0.2868,0.    ]\n",
      "67\n",
      "10.0257\n",
      "\n",
      "[0.2774,0.2597,1.    ,0.1224,0.4505,0.7549,0.129 ,0.    ]\n",
      "1\n",
      "0.0000\n",
      "\n",
      "[0.3065,0.3333,0.6979,0.2792,0.3787,1.    ,0.2373,0.    ]\n",
      "1\n",
      "0.0000\n",
      "\n",
      "[0.0884,0.1818,0.    ,0.145 ,0.1538,0.1245,0.    ,0.    ]\n",
      "1\n",
      "0.0000\n",
      "\n",
      "[0.714 ,0.7588,0.5603,0.7028,0.6994,0.4864,0.7393,1.    ]\n",
      "70\n",
      "12.4291\n",
      "\n",
      "5\n",
      "15.6967\n",
      "\n",
      "[0.3636,0.4107,0.5609,0.3857,0.3937,0.2808,0.3155,0.    ]\n",
      "49\n",
      "5.0209\n",
      "\n",
      "[0.3471,0.3622,0.7897,0.279 ,0.441 ,0.8568,0.2234,0.    ]\n",
      "3\n",
      "0.2178\n",
      "\n",
      "[0.1656,0.2226,0.3509,0.2328,0.152 ,0.3424,0.1918,0.    ]\n",
      "18\n",
      "2.2794\n",
      "\n",
      "[0.7918,0.8268,0.606 ,0.7669,0.7787,0.4634,0.7877,1.    ]\n",
      "49\n",
      "6.3712\n",
      "\n",
      "[0.5326,0.6002,0.4536,0.5531,0.5144,0.5401,0.6266,1.    ]\n",
      "21\n",
      "1.8075\n",
      "\n"
     ]
    }
   ],
   "source": [
    "# Load evaluation data\n",
    "!curl https://raw.githubusercontent.com/cs472ta/CS472/master/datasets/seismic-bumps_train.arff --output datasets.arff\n",
    "data = arff.loadarff('datasets.arff')\n",
    "df = pd.DataFrame(data[0])\n",
    "np_data = np.array(df)\n",
    "X = np_data[:,0:-1].astype(np.float64)\n",
    "y = np_data[:, -1].astype(np.float64)\n",
    "\n",
    "# Train on evaluation data\n",
    "kmean = HACClustering(k=5, normalize=True)\n",
    "kmean.fit(X,y)\n",
    "\n",
    "# Print clusters\n",
    "kmean.print_clusters()\n",
    "\n",
    "# Evaluate complete\n",
    "kmean = HACClustering(k=5, link_type='complete', normalize=True)\n",
    "kmean.fit(X,y)\n",
    "\n",
    "# Print clusters\n",
    "kmean.print_clusters()"
   ]
  },
  {
   "cell_type": "markdown",
   "metadata": {},
   "source": [
    "### 1.2.1 K-Means\n",
    "\n",
    "### Code requirements \n",
    "- Ability to choose k and specify k initial centroids\n",
    "- Use Euclidean Distance as metric\n",
    "- Ability to handle distance ties\n",
    "- Include output label as a cluster feature\n",
    "\n",
    "\n",
    "---\n",
    "The output should include the following:\n",
    "- The number of clusters (k).\n",
    "- The total SSE of the full clustering. \n",
    "\n",
    "\n",
    "For each cluster report include:\n",
    "\n",
    "\n",
    "- The centroid id.\n",
    "- The number of instances tied to that centroid. \n",
    "- The SSE of that cluster. (The sum squared error (SSE) of a single cluster is the sum of the squared euclidean distance of each cluster member to the cluster centroid.)\n",
    "---\n",
    "You only need to handle continuous features"
   ]
  },
  {
   "cell_type": "code",
   "execution_count": 29,
   "metadata": {
    "id": "_a2KSZ_7AN0G"
   },
   "outputs": [],
   "source": [
    "class KMEANSClustering(BaseEstimator,ClusterMixin):\n",
    "\n",
    "    def __init__(self,k=3,debug=False, normalize=True):\n",
    "        self.k = k\n",
    "        self.debug = debug\n",
    "        self.cluster_sizes = np.array([])\n",
    "        self.cluster_sse = np.array([])\n",
    "        self.total_cluster_sse = np.array([])\n",
    "        self.normalize = normalize\n",
    "\n",
    "    def fit(self,X,y=None):\n",
    "        if y is not None:\n",
    "            X = np.c_[X, y]\n",
    "        if self.normalize:\n",
    "            X = self.normalize_X(X)\n",
    "        if self.debug:\n",
    "            centroids = np.copy(X[:self.k])\n",
    "            old_centroids = np.zeros(centroids.shape)\n",
    "        else:\n",
    "            min_ = X.min(axis=0)\n",
    "            max_ = X.max(axis=0)\n",
    "            centroids = np.random.rand(self.k, X.shape[1])\n",
    "            old_centroids = np.random.rand(self.k, X.shape[1])\n",
    "        \n",
    "\n",
    "        while np.sum(old_centroids-centroids) != 0:  \n",
    "            old_centroids = np.copy(centroids)\n",
    "            distances = np.array([np.linalg.norm(X - c, axis=1) for c in centroids])\n",
    "            cluster = np.transpose(distances.argmin(axis=0)*np.ones((1,X.shape[0])))\n",
    "            for i in range(self.k):\n",
    "                current_cluster = np.where(cluster==i, 1, 0)\n",
    "                if sum(current_cluster) > 0:\n",
    "                    centroids[i] = np.sum(X*current_cluster, axis=0)/np.sum(current_cluster)\n",
    "                    \n",
    "        self.centroids = centroids\n",
    "        for i in range(self.k):\n",
    "            self.cluster_sizes = np.append(self.cluster_sizes, (cluster == i).sum())\n",
    "        for i in range(self.k):\n",
    "            current_cluster = X * np.where(cluster==i, 1, 0)\n",
    "            current_cluster = current_cluster[~np.all(current_cluster == 0, axis=1)]\n",
    "            self.cluster_sse = np.append(self.cluster_sse, self.sse(centroids[i], current_cluster))\n",
    "        self.total_cluster_sse = np.sum(self.cluster_sse)\n",
    "        return self\n",
    "    \n",
    "    def sse(self, centroid, cluster):\n",
    "        distance = np.array([np.linalg.norm(cluster - centroid, ord=2, axis=1)])\n",
    "        distance_squared = np.square(distance)              \n",
    "        return np.sum(distance_squared)\n",
    "    \n",
    "    def normalize_X(self, X):\n",
    "        index = 0\n",
    "        for col in X.T:\n",
    "            X[:,index] = (col - col.min()) / (col.max() - col.min())\n",
    "            index += 1\n",
    "        return X\n",
    "    \n",
    "    def print_clusters(self):\n",
    "        print(\"{:d}\".format(self.k))\n",
    "        print(\"{:.4f}\\n\".format(np.sum(self.cluster_sse)))\n",
    "        for i, centroid in enumerate(self.centroids):\n",
    "            print(np.array2string(centroid,precision=4,separator=\",\"))\n",
    "            print(\"{:.0f}\".format(self.cluster_sizes[i]))\n",
    "            print(\"{:.4f}\\n\".format(self.cluster_sse[i]))\n",
    "\n"
   ]
  },
  {
   "cell_type": "markdown",
   "metadata": {
    "id": "KibCIXIThpbE"
   },
   "source": [
    "### 1.2.2 Debug \n",
    "\n",
    "Debug your model by running it on the [Debug Dataset](https://raw.githubusercontent.com/cs472ta/CS472/master/datasets/abalone.arff)\n",
    "\n",
    "\n",
    "- Train until convergence\n",
    "- Normalize Data\n",
    "- K = 5\n",
    "- Use the first k instances as the initial centroids\n",
    "- Use 4 decimal places and DO NOT ROUND when reporting SSE and centroid values\n",
    "\n",
    "\n",
    "---\n",
    "Solutions in files:\n",
    "\n",
    "[Debug K Means.txt](https://raw.githubusercontent.com/cs472ta/CS472/master/debug_solutions/Debug%20K%20Means.txt)"
   ]
  },
  {
   "cell_type": "code",
   "execution_count": 77,
   "metadata": {
    "id": "KgAyy82gixIF"
   },
   "outputs": [
    {
     "name": "stdout",
     "output_type": "stream",
     "text": [
      "  % Total    % Received % Xferd  Average Speed   Time    Time     Time  Current\n",
      "                                 Dload  Upload   Total   Spent    Left  Speed\n",
      "100  187k  100  187k    0     0   628k      0 --:--:-- --:--:-- --:--:--  628k\n",
      "5\n",
      "9.7826\n",
      "\n",
      "[0.7325,0.7327,0.627 ,0.3817,0.3633,0.4045,0.3046,0.4839]\n",
      "75\n",
      "4.0454\n",
      "\n",
      "[0.3704,0.3519,0.2686,0.0926,0.0935,0.094 ,0.0792,0.218 ]\n",
      "34\n",
      "0.6609\n",
      "\n",
      "[0.9035,0.905 ,0.7774,0.6579,0.5767,0.6193,0.5893,0.7279]\n",
      "24\n",
      "3.2116\n",
      "\n",
      "[0.5692,0.5628,0.4376,0.211 ,0.2113,0.2248,0.1659,0.317 ]\n",
      "54\n",
      "1.5452\n",
      "\n",
      "[0.1296,0.1037,0.1053,0.0177,0.0211,0.0272,0.0135,0.0724]\n",
      "13\n",
      "0.3195\n",
      "\n"
     ]
    }
   ],
   "source": [
    "# Load debug data\n",
    "!curl https://raw.githubusercontent.com/cs472ta/CS472/master/datasets/abalone.arff --output datasets.arff\n",
    "data = arff.loadarff('datasets/abalone.arff')\n",
    "df = pd.DataFrame(data[0])\n",
    "np_data = np.array(df)\n",
    "X = np_data[:,0:-1].astype(np.float64)\n",
    "y = np_data[:, -1].astype(np.float64)\n",
    "\n",
    "\n",
    "# Train on debug data\n",
    "kmean = KMEANSClustering(k=5, debug=True)\n",
    "kmean.fit(X,y)\n",
    "\n",
    "# Print clusters\n",
    "kmean.print_clusters()"
   ]
  },
  {
   "cell_type": "markdown",
   "metadata": {
    "id": "kY3VNB1ui03N"
   },
   "source": [
    "### 1.2.3 Evaluation\n",
    "\n",
    "We will evaluate your model based on its print_clusters() output using [Evaluation Dataset](https://raw.githubusercontent.com/cs472ta/CS472/master/datasets/seismic-bumps_train.arff)"
   ]
  },
  {
   "cell_type": "code",
   "execution_count": 78,
   "metadata": {
    "id": "2yAxA78QjDh2"
   },
   "outputs": [
    {
     "name": "stdout",
     "output_type": "stream",
     "text": [
      "  % Total    % Received % Xferd  Average Speed   Time    Time     Time  Current\n",
      "                                 Dload  Upload   Total   Spent    Left  Speed\n",
      "100  6392  100  6392    0     0  11970      0 --:--:-- --:--:-- --:--:-- 11947\n",
      "5\n",
      "14.7279\n",
      "\n",
      "[0.5349,0.6013,0.4617,0.5541,0.5232,0.5544,0.6248,1.    ]\n",
      "22\n",
      "2.0160\n",
      "\n",
      "[0.3684,0.4338,0.4356,0.4388,0.3573,0.2988,0.3673,0.    ]\n",
      "31\n",
      "2.4076\n",
      "\n",
      "[0.3658,0.3854,0.7563,0.3093,0.4659,0.3691,0.2413,0.    ]\n",
      "20\n",
      "2.5248\n",
      "\n",
      "[0.1634,0.2137,0.3968,0.2178,0.1555,0.3078,0.1775,0.    ]\n",
      "19\n",
      "1.7770\n",
      "\n",
      "[0.7961,0.831 ,0.6054,0.7709,0.7802,0.4553,0.7919,1.    ]\n",
      "48\n",
      "6.0025\n",
      "\n"
     ]
    }
   ],
   "source": [
    "# Load evaluation data\n",
    "!curl https://raw.githubusercontent.com/cs472ta/CS472/master/datasets/seismic-bumps_train.arff --output dataset.arff\n",
    "data = arff.loadarff('dataset.arff')\n",
    "df = pd.DataFrame(data[0])\n",
    "np_data = np.array(df)\n",
    "X = np_data[:,0:-1].astype(np.float64)\n",
    "y = np_data[:, -1].astype(np.float64)\n",
    "\n",
    "# Train on evaluation data\n",
    "kmean = KMEANSClustering(k=5, debug=True)\n",
    "kmean.fit(X,y)\n",
    "\n",
    "# Print clusters\n",
    "kmean.print_clusters()"
   ]
  },
  {
   "cell_type": "markdown",
   "metadata": {
    "id": "9vWiTdlbR2Xh"
   },
   "source": [
    "## 2.1.1 (7.5%) Clustering the Iris Classification problem - HAC\n",
    "\n",
    "Load the Iris Dataset [Iris Dataset](https://raw.githubusercontent.com/cs472ta/CS472/master/datasets/iris.arff)\n",
    "\n",
    "- Use single-link and complete link clustering algorithms\n",
    "- State whether you normalize your data or not (your choice).  \n",
    "- Show your results for clusterings using k = 2-7.  \n",
    "- Graph the total SSE for each k and discuss your results (i.e. what kind of clusters are being made).\n",
    "---"
   ]
  },
  {
   "cell_type": "code",
   "execution_count": 8,
   "metadata": {
    "id": "4SSoasDQSKXb"
   },
   "outputs": [
    {
     "name": "stdout",
     "output_type": "stream",
     "text": [
      "  % Total    % Received % Xferd  Average Speed   Time    Time     Time  Current\n",
      "                                 Dload  Upload   Total   Spent    Left  Speed\n",
      "100  7485  100  7485    0     0  22276      0 --:--:-- --:--:-- --:--:-- 22276\n"
     ]
    },
    {
     "data": {
      "image/png": "[encoded data removed]",
      "text/plain": [
       "<Figure size 432x288 with 1 Axes>"
      ]
     },
     "metadata": {
      "needs_background": "light"
     },
     "output_type": "display_data"
    }
   ],
   "source": [
    "# Iris Classification using single-link\n",
    "!curl https://raw.githubusercontent.com/cs472ta/CS472/master/datasets/iris.arff --output dataset.arff\n",
    "data = arff.loadarff('dataset.arff')\n",
    "df = pd.DataFrame(data[0])\n",
    "np_data = np.array(df)\n",
    "X = np_data[:,0:-1].astype(np.float64)\n",
    "# Evaluate complete\n",
    "k_array = np.array([])\n",
    "sse_array = np.array([])\n",
    "for i in range(2,8):\n",
    "    k_array = np.append(k_array, i)\n",
    "    kmean = HACClustering(k=i, link_type='single', normalize=True)\n",
    "    kmean.fit(X)\n",
    "    sse_array = np.append(sse_array, kmean.total_cluster_sse)\n",
    "\n",
    "plt.plot(k_array, sse_array)\n",
    "plt.show()"
   ]
  },
  {
   "cell_type": "code",
   "execution_count": 9,
   "metadata": {},
   "outputs": [
    {
     "name": "stdout",
     "output_type": "stream",
     "text": [
      "  % Total    % Received % Xferd  Average Speed   Time    Time     Time  Current\n",
      "                                 Dload  Upload   Total   Spent    Left  Speed\n",
      "100  7485  100  7485    0     0  30303      0 --:--:-- --:--:-- --:--:-- 30426\n"
     ]
    },
    {
     "data": {
      "image/png": "[encoded data removed]",
      "text/plain": [
       "<Figure size 432x288 with 1 Axes>"
      ]
     },
     "metadata": {
      "needs_background": "light"
     },
     "output_type": "display_data"
    }
   ],
   "source": [
    "# Iris Classification using complete-link\n",
    "!curl https://raw.githubusercontent.com/cs472ta/CS472/master/datasets/iris.arff --output dataset.arff\n",
    "data = arff.loadarff('dataset.arff')\n",
    "df = pd.DataFrame(data[0])\n",
    "np_data = np.array(df)\n",
    "X = np_data[:,0:-1].astype(np.float64)\n",
    "# Evaluate complete\n",
    "k_array = np.array([])\n",
    "sse_array = np.array([])\n",
    "for i in range(2,8):\n",
    "    k_array = np.append(k_array, i)\n",
    "    kmean = HACClustering(k=i, link_type='complete', normalize=True)\n",
    "    kmean.fit(X)\n",
    "    sse_array = np.append(sse_array, kmean.total_cluster_sse)\n",
    "\n",
    "plt.plot(k_array, sse_array)\n",
    "plt.show()"
   ]
  },
  {
   "cell_type": "markdown",
   "metadata": {},
   "source": [
    "Discuss differences between single-link and complete-link\n",
    "\n",
    "Single link started off worse (over 6 SSE), but continually decreased until its SSE was under 1. \n",
    "Complete link stayed the same at around 2 clusters until getting to 5 clusters and then dropped to around 1.4. \n",
    "Single link did better because it found a lower floor for SSE."
   ]
  },
  {
   "cell_type": "markdown",
   "metadata": {},
   "source": [
    "## 2.1.2 (5%) Clustering the Iris Classification problem - HAC\n",
    "\n",
    "Requirements:\n",
    "- Repeat excercise 2.1.1 and include the output label as one of the input features."
   ]
  },
  {
   "cell_type": "code",
   "execution_count": 74,
   "metadata": {},
   "outputs": [
    {
     "name": "stdout",
     "output_type": "stream",
     "text": [
      "  % Total    % Received % Xferd  Average Speed   Time    Time     Time  Current\n",
      "                                 Dload  Upload   Total   Spent    Left  Speed\n",
      "100  7485  100  7485    0     0  80483      0 --:--:-- --:--:-- --:--:-- 80483\n"
     ]
    },
    {
     "data": {
      "image/png": "[encoded data removed]",
      "text/plain": [
       "<Figure size 432x288 with 1 Axes>"
      ]
     },
     "metadata": {
      "needs_background": "light"
     },
     "output_type": "display_data"
    }
   ],
   "source": [
    "# Clustering Labels using single-link\n",
    "!curl https://raw.githubusercontent.com/cs472ta/CS472/master/datasets/iris.arff --output dataset.arff\n",
    "data = arff.loadarff('dataset.arff')\n",
    "df = pd.DataFrame(data[0])\n",
    "np_data = np.array(df)\n",
    "X = np_data[:,0:-1].astype(np.float64)\n",
    "y = np.reshape([str(s.decode('utf-8')) for s in np_data[:,-1]], (-1, 1))\n",
    "\n",
    "onehot_encoder = OneHotEncoder(sparse=False)\n",
    "y = y.reshape(len(y), 1)\n",
    "y = onehot_encoder.fit_transform(y)\n",
    "\n",
    "k_array = np.array([])\n",
    "sse_array = np.array([])\n",
    "for i in range(2,8):\n",
    "    k_array = np.append(k_array, i)\n",
    "    kmean = HACClustering(k=i, link_type='single', normalize=True)\n",
    "    kmean.fit(X,y)\n",
    "    sse_array = np.append(sse_array, kmean.total_cluster_sse)\n",
    "\n",
    "plt.plot(k_array, sse_array)\n",
    "plt.show()"
   ]
  },
  {
   "cell_type": "code",
   "execution_count": 73,
   "metadata": {},
   "outputs": [
    {
     "name": "stdout",
     "output_type": "stream",
     "text": [
      "  % Total    % Received % Xferd  Average Speed   Time    Time     Time  Current\n",
      "                                 Dload  Upload   Total   Spent    Left  Speed\n",
      "100  7485  100  7485    0     0  87034      0 --:--:-- --:--:-- --:--:-- 87034\n"
     ]
    },
    {
     "data": {
      "image/png": "[encoded data removed]",
      "text/plain": [
       "<Figure size 432x288 with 1 Axes>"
      ]
     },
     "metadata": {
      "needs_background": "light"
     },
     "output_type": "display_data"
    }
   ],
   "source": [
    "# Clustering Labels using complete-link\n",
    "!curl https://raw.githubusercontent.com/cs472ta/CS472/master/datasets/iris.arff --output dataset.arff\n",
    "data = arff.loadarff('dataset.arff')\n",
    "df = pd.DataFrame(data[0])\n",
    "np_data = np.array(df)\n",
    "X = np_data[:,0:-1].astype(np.float64)\n",
    "y = np.reshape([str(s.decode('utf-8')) for s in np_data[:,-1]], (-1, 1))\n",
    "\n",
    "onehot_encoder = OneHotEncoder(sparse=False)\n",
    "y = y.reshape(len(y), 1)\n",
    "y = onehot_encoder.fit_transform(y)\n",
    "\n",
    "k_array = np.array([])\n",
    "sse_array = np.array([])\n",
    "for i in range(2,8):\n",
    "    k_array = np.append(k_array, i)\n",
    "    kmean = HACClustering(k=i, link_type='complete', normalize=True)\n",
    "    kmean.fit(X,y)\n",
    "    sse_array = np.append(sse_array, kmean.total_cluster_sse)\n",
    "\n",
    "plt.plot(k_array, sse_array)\n",
    "plt.show()"
   ]
  },
  {
   "cell_type": "markdown",
   "metadata": {},
   "source": [
    "Discuss any differences between the results from 2.1.1 and 2.1.2.\n",
    "\n",
    "Single link didn't have a big range, SSE stayed between 6.5 and 7. It did continually decrease over time. Complete linkage did vey well for 2 and 3 clusters, having an SSE under 2. However, it shot up after that. For this dataset at least, after creating more clusters than output classes performs poorly."
   ]
  },
  {
   "cell_type": "markdown",
   "metadata": {
    "id": "9vWiTdlbR2Xh"
   },
   "source": [
    "## 2.2.1 (7.5%) Clustering the Iris Classification problem: K-Means\n",
    "\n",
    "Load the Iris Dataset [Iris Dataset](https://raw.githubusercontent.com/cs472ta/CS472/master/datasets/iris.arff)\n",
    "\n",
    "Run K-Means on the Iris dataset using the output label as a feature and without using the output label as a feature\n",
    "\n",
    "Requirements:\n",
    "- State whether you normalize your data or not (your choice).  \n",
    "- Show your results for clusterings using k = 2-7.  \n",
    "- Graph the total SSE for each k and discuss your results (i.e. what kind of clusters are being made).\n",
    "---"
   ]
  },
  {
   "cell_type": "code",
   "execution_count": 38,
   "metadata": {},
   "outputs": [
    {
     "name": "stdout",
     "output_type": "stream",
     "text": [
      "  % Total    % Received % Xferd  Average Speed   Time    Time     Time  Current\n",
      "                                 Dload  Upload   Total   Spent    Left  Speed\n",
      "100  7485  100  7485    0     0  92407      0 --:--:-- --:--:-- --:--:-- 92407\n"
     ]
    },
    {
     "data": {
      "image/png": "[encoded data removed]",
      "text/plain": [
       "<Figure size 432x288 with 1 Axes>"
      ]
     },
     "metadata": {
      "needs_background": "light"
     },
     "output_type": "display_data"
    }
   ],
   "source": [
    "# Iris Classification without output label\n",
    "!curl https://raw.githubusercontent.com/cs472ta/CS472/master/datasets/iris.arff --output dataset.arff\n",
    "data = arff.loadarff('dataset.arff')\n",
    "df = pd.DataFrame(data[0])\n",
    "np_data = np.array(df)\n",
    "X = np_data[:,0:-1].astype(np.float64)\n",
    "\n",
    "k_array = np.array([])\n",
    "sse_array = np.array([])\n",
    "for i in range(3,8):\n",
    "    k_array = np.append(k_array, i)\n",
    "    kmean = KMEANSClustering(k=i)\n",
    "    kmean.fit(X)\n",
    "    sse_array = np.append(sse_array, kmean.total_cluster_sse)\n",
    "\n",
    "plt.plot(k_array, sse_array)\n",
    "plt.show()"
   ]
  },
  {
   "cell_type": "code",
   "execution_count": 33,
   "metadata": {
    "id": "4SSoasDQSKXb"
   },
   "outputs": [
    {
     "name": "stdout",
     "output_type": "stream",
     "text": [
      "  % Total    % Received % Xferd  Average Speed   Time    Time     Time  Current\n",
      "                                 Dload  Upload   Total   Spent    Left  Speed\n",
      "100  7485  100  7485    0     0      0      0 --:--:-- --:--:-- --:--:--     0    0  82252      0 --:--:-- --:--:-- --:--:-- 82252\n"
     ]
    },
    {
     "data": {
      "image/png": "[encoded data removed]",
      "text/plain": [
       "<Figure size 432x288 with 1 Axes>"
      ]
     },
     "metadata": {
      "needs_background": "light"
     },
     "output_type": "display_data"
    }
   ],
   "source": [
    "# Iris Classification with output label\n",
    "!curl https://raw.githubusercontent.com/cs472ta/CS472/master/datasets/iris.arff --output dataset.arff\n",
    "data = arff.loadarff('dataset.arff')\n",
    "df = pd.DataFrame(data[0])\n",
    "np_data = np.array(df)\n",
    "X = np_data[:,0:-1].astype(np.float64)\n",
    "y = np.reshape([str(s.decode('utf-8')) for s in np_data[:,-1]], (-1, 1))\n",
    "\n",
    "onehot_encoder = OneHotEncoder(sparse=False)\n",
    "y = y.reshape(len(y), 1)\n",
    "y = onehot_encoder.fit_transform(y)\n",
    "\n",
    "k_array = np.array([])\n",
    "sse_array = np.array([])\n",
    "for i in range(2,8):\n",
    "    k_array = np.append(k_array, i)\n",
    "    kmean = KMEANSClustering(k=i)\n",
    "    kmean.fit(X,y)\n",
    "    sse_array = np.append(sse_array, kmean.total_cluster_sse)\n",
    "\n",
    "plt.plot(k_array, sse_array)\n",
    "plt.show()"
   ]
  },
  {
   "cell_type": "markdown",
   "metadata": {},
   "source": [
    "Compare results and differences between using the output label and excluding the output label\n",
    "\n",
    "Doing KMeans on the Iris dataset had a lot better performance without the output labels. Without the labels, it started out with an SSE of 11 and descended down to about 4. With output labels, it started extremely high at 60 but quickly plateued at around 8. I used one hot encoding to convert the output labels."
   ]
  },
  {
   "cell_type": "markdown",
   "metadata": {},
   "source": [
    "## 2.2.2 (5%) Clustering the Iris Classification problem: K-Means\n",
    "\n",
    "Requirements:\n",
    "- Use the output label as an input feature\n",
    "- Run K-Means 5 times with k=4, each time with different initial random centroids and discuss any variations in the results. "
   ]
  },
  {
   "cell_type": "code",
   "execution_count": 50,
   "metadata": {},
   "outputs": [
    {
     "name": "stdout",
     "output_type": "stream",
     "text": [
      "  % Total    % Received % Xferd  Average Speed   Time    Time     Time  Current\n",
      "                                 Dload  Upload   Total   Spent    Left  Speed\n",
      "100  7485  100  7485    0     0  82252      0 --:--:-- --:--:-- --:--:-- 83166\n"
     ]
    },
    {
     "data": {
      "image/png": "[encoded data removed]",
      "text/plain": [
       "<Figure size 432x288 with 1 Axes>"
      ]
     },
     "metadata": {
      "needs_background": "light"
     },
     "output_type": "display_data"
    }
   ],
   "source": [
    "#K-Means 5 times\n",
    "!curl https://raw.githubusercontent.com/cs472ta/CS472/master/datasets/iris.arff --output dataset.arff\n",
    "data = arff.loadarff('dataset.arff')\n",
    "df = pd.DataFrame(data[0])\n",
    "np_data = np.array(df)\n",
    "X = np_data[:,0:-1].astype(np.float64)\n",
    "y = np.reshape([str(s.decode('utf-8')) for s in np_data[:,-1]], (-1, 1))\n",
    "\n",
    "onehot_encoder = OneHotEncoder(sparse=False)\n",
    "y = y.reshape(len(y), 1)\n",
    "y = onehot_encoder.fit_transform(y)\n",
    "\n",
    "k_array = np.array([])\n",
    "sse_array = np.array([])\n",
    "for i in range(5):\n",
    "    k_array = np.append(k_array, i)\n",
    "    kmean = KMEANSClustering(k=4)\n",
    "    kmean.fit(X,y)\n",
    "    sse_array = np.append(sse_array, kmean.total_cluster_sse)\n",
    "\n",
    "plt.plot(k_array, sse_array)\n",
    "plt.show()"
   ]
  },
  {
   "cell_type": "markdown",
   "metadata": {},
   "source": [
    "Discuss any variations in the results\n",
    "\n",
    "It looks like the random values typically get the SSE below ten, but sometimes can lead to huge outliers. I think that it would be difficult to get an SSE much lower than the normal random run. The outlier skews the average."
   ]
  },
  {
   "cell_type": "markdown",
   "metadata": {
    "id": "oBBmeNQ7jvcQ"
   },
   "source": [
    "## 3.1 (12.5%) Run the SK versions of HAC (both single and complete link) on iris including the output label and compare your results with those above.\n",
    "Use the silhouette score for this iris problem(k = 2-7).  You may write your own code to do silhouette (optional extra credit) or you can use sklearn.metrics.silhouette_score. Please state if you coded your own silhouette score function to receive the extra credit points (described below). Discuss how helpful Silhouette appeared to be for selecting which clustering is best. You do not need to supply full Silhouette graphs, but you could if you wanted to.\n",
    "\n",
    "Requirements\n",
    "- Use the Sillhouette score for this iris problem (k= 2-7) \n",
    "- Use at least one other scoring function from [sklearn.metrics](https://scikit-learn.org/stable/modules/model_evaluation.html) and compare the results. State which metric was used. \n",
    "- Possible sklean metrics include (* metrics require ground truth labels):\n",
    "    - adjusted_mutual_info_score*\n",
    "    - adjusted_rand_score*\n",
    "    - homogeneity_score*\n",
    "    - completeness_score*\n",
    "    - fowlkes_mallows_score*\n",
    "    - calinski_harabasz_score\n",
    "    - davies_bouldin_score\n",
    "- Experiment using different hyper-parameters. Discuss Results"
   ]
  },
  {
   "cell_type": "markdown",
   "metadata": {
    "id": "BqSFAXwlk3Ms"
   },
   "source": [
    "The silhouette score sloped downwards, which made sense because there are only 3 output classes for the Iris dataset. It was surprising that 2 clusters worked a bit better than 3 for single linkage. The only parameter that I saw change anything was manhattan distance for complete linkage, which had better clustering scores, especially for 3 clusters.\n",
    "\n",
    "The Calinski Harabaz score worked well for single and complete linkage and showed the best score for 3 clusterings, which was expected. There were no parameters to change for Calinski Harabaz."
   ]
  },
  {
   "cell_type": "code",
   "execution_count": 64,
   "metadata": {
    "id": "OFQv70W2VyqJ"
   },
   "outputs": [
    {
     "name": "stdout",
     "output_type": "stream",
     "text": [
      "  % Total    % Received % Xferd  Average Speed   Time    Time     Time  Current\n",
      "                                 Dload  Upload   Total   Spent    Left  Speed\n",
      "100  7485  100  7485    0     0  83166      0 --:--:-- --:--:-- --:--:-- 83166\n"
     ]
    },
    {
     "data": {
      "image/png": "[encoded data removed]",
      "text/plain": [
       "<Figure size 432x288 with 1 Axes>"
      ]
     },
     "metadata": {
      "needs_background": "light"
     },
     "output_type": "display_data"
    },
    {
     "data": {
      "image/png": "[encoded data removed]",
      "text/plain": [
       "<Figure size 432x288 with 1 Axes>"
      ]
     },
     "metadata": {
      "needs_background": "light"
     },
     "output_type": "display_data"
    },
    {
     "data": {
      "image/png": "[encoded data removed]",
      "text/plain": [
       "<Figure size 432x288 with 1 Axes>"
      ]
     },
     "metadata": {
      "needs_background": "light"
     },
     "output_type": "display_data"
    },
    {
     "data": {
      "image/png": "[encoded data removed]",
      "text/plain": [
       "<Figure size 432x288 with 1 Axes>"
      ]
     },
     "metadata": {
      "needs_background": "light"
     },
     "output_type": "display_data"
    }
   ],
   "source": [
    "!curl https://raw.githubusercontent.com/cs472ta/CS472/master/datasets/iris.arff --output dataset.arff\n",
    "data = arff.loadarff('dataset.arff')\n",
    "df = pd.DataFrame(data[0])\n",
    "np_data = np.array(df)\n",
    "X = np_data[:,0:-1].astype(np.float64)\n",
    "y = np.reshape([str(s.decode('utf-8')) for s in np_data[:,-1]], (-1, 1))\n",
    "\n",
    "onehot_encoder = OneHotEncoder(sparse=False)\n",
    "y = y.reshape(len(y), 1)\n",
    "y = onehot_encoder.fit_transform(y)\n",
    "X = np.c_[X, y]\n",
    "\n",
    "k_array = np.array([])\n",
    "silhouette_single_scores = np.array([])\n",
    "silhouette_complete_scores = np.array([])\n",
    "ch_single_scores = np.array([])\n",
    "ch_complete_scores = np.array([])\n",
    "for i in range(2,8):\n",
    "    k_array = np.append(k_array, i)\n",
    "    clustering = AgglomerativeClustering(n_clusters=i, linkage='single').fit(X)\n",
    "    sil_score = silhouette_score(X, clustering.labels_)\n",
    "    ch_score = calinski_harabasz_score(X, clustering.labels_)\n",
    "    silhouette_single_scores = np.append(silhouette_single_scores, sil_score)\n",
    "    ch_single_scores = np.append(ch_single_scores, ch_score)\n",
    "    clustering = AgglomerativeClustering(n_clusters=i, linkage='complete', affinity=\"manhattan\").fit(X)\n",
    "    sil_score = silhouette_score(X, clustering.labels_)\n",
    "    ch_score = calinski_harabasz_score(X, clustering.labels_)\n",
    "    silhouette_complete_scores = np.append(silhouette_complete_scores, sil_score)\n",
    "    ch_complete_scores = np.append(ch_complete_scores, ch_score)\n",
    "\n",
    "plt.xlabel('K Values')\n",
    "plt.ylabel('Silhouette Single Scores')\n",
    "plt.plot(k_array, silhouette_single_scores)\n",
    "plt.show()\n",
    "\n",
    "plt.xlabel('K Values')\n",
    "plt.ylabel('Silhouette Complete Scores')\n",
    "plt.plot(k_array, silhouette_complete_scores)\n",
    "plt.show()\n",
    "\n",
    "plt.xlabel('K Values')\n",
    "plt.ylabel('Calinski Harabasz Single Scores')\n",
    "plt.plot(k_array, ch_single_scores)\n",
    "plt.show()\n",
    "\n",
    "plt.xlabel('K Values')\n",
    "plt.ylabel('Calinski Harabasz Complete Scores')\n",
    "plt.plot(k_array, ch_complete_scores)\n",
    "plt.show()"
   ]
  },
  {
   "cell_type": "markdown",
   "metadata": {
    "id": "oBBmeNQ7jvcQ"
   },
   "source": [
    "## 3.2 (12.5%) Run the SK version of k-means on iris including the output label and compare your results with those above. \n",
    "\n",
    "Use the silhouette score for this iris problem(k = 2-7). You may write your own code to do silhouette (optional extra credit) or you can use sklearn.metrics.silhouette_score. Please state if you coded your own silhouette score function to receive the extra credit points (described below). Discuss how helpful Silhouette appeared to be for selecting which clustering is best. You do not need to supply full Silhouette graphs, but you could if you wanted to.\n",
    "\n",
    "Requirements\n",
    "- Use the Sillhouette score for this iris problem (k= 2-7) \n",
    "- Use at least one other scoring function form sklearn.metrics and compare the results. State which metric was used\n",
    "- Experiment different hyper-parameters. Discuss Results"
   ]
  },
  {
   "cell_type": "code",
   "execution_count": 72,
   "metadata": {
    "id": "OFQv70W2VyqJ"
   },
   "outputs": [
    {
     "name": "stdout",
     "output_type": "stream",
     "text": [
      "  % Total    % Received % Xferd  Average Speed   Time    Time     Time  Current\n",
      "                                 Dload  Upload   Total   Spent    Left  Speed\n",
      "100  7485  100  7485    0     0  83166      0 --:--:-- --:--:-- --:--:-- 83166\n"
     ]
    },
    {
     "data": {
      "image/png": "[encoded data removed]",
      "text/plain": [
       "<Figure size 432x288 with 1 Axes>"
      ]
     },
     "metadata": {
      "needs_background": "light"
     },
     "output_type": "display_data"
    },
    {
     "data": {
      "image/png": "[encoded data removed]",
      "text/plain": [
       "<Figure size 432x288 with 1 Axes>"
      ]
     },
     "metadata": {
      "needs_background": "light"
     },
     "output_type": "display_data"
    }
   ],
   "source": [
    "!curl https://raw.githubusercontent.com/cs472ta/CS472/master/datasets/iris.arff --output dataset.arff\n",
    "data = arff.loadarff('dataset.arff')\n",
    "df = pd.DataFrame(data[0])\n",
    "np_data = np.array(df)\n",
    "X = np_data[:,0:-1].astype(np.float64)\n",
    "y = np.reshape([str(s.decode('utf-8')) for s in np_data[:,-1]], (-1, 1))\n",
    "\n",
    "onehot_encoder = OneHotEncoder(sparse=False)\n",
    "y = y.reshape(len(y), 1)\n",
    "y = onehot_encoder.fit_transform(y)\n",
    "X = np.c_[X, y]\n",
    "\n",
    "k_array = np.array([])\n",
    "silhouette_scores = np.array([])\n",
    "ch_scores = np.array([])\n",
    "for i in range(2,8):\n",
    "    k_array = np.append(k_array, i)\n",
    "    clustering = KMeans(n_clusters=i).fit(X)\n",
    "    sil_score = silhouette_score(X, clustering.labels_)\n",
    "    ch_score = calinski_harabasz_score(X, clustering.labels_)\n",
    "    silhouette_scores = np.append(silhouette_scores, sil_score)\n",
    "    ch_scores = np.append(ch_scores, ch_score)\n",
    "    \n",
    "plt.xlabel('K Values')\n",
    "plt.ylabel('Silhouette Scores')\n",
    "plt.plot(k_array, silhouette_scores)\n",
    "plt.show()\n",
    "\n",
    "plt.xlabel('K Values')\n",
    "plt.ylabel('Calinski Harabasz Scores')\n",
    "plt.plot(k_array, ch_scores)\n",
    "plt.show()\n"
   ]
  },
  {
   "cell_type": "markdown",
   "metadata": {
    "id": "BqSFAXwlk3Ms"
   },
   "source": [
    "Again, it was interesting that the silhouette score was better for 2 clusters than 3. I tried different parameters but couldn't improve.\n",
    "\n",
    "The Calinski Harabaz score worked well and showed the best score for 3 clusterings, which was expected. There were no parameters to change for Calinski Harabaz."
   ]
  },
  {
   "cell_type": "markdown",
   "metadata": {
    "id": "cTlK-kijk8Mg"
   },
   "source": [
    "## 4. (Optional 5% extra credit) For your silhouette experiment above, write and use your own code to calculate the silhouette scores, rather than the SK or other version. \n"
   ]
  },
  {
   "cell_type": "markdown",
   "metadata": {
    "id": "BqSFAXwlk3Ms"
   },
   "source": [
    "*Show findings here*"
   ]
  },
  {
   "cell_type": "code",
   "execution_count": 17,
   "metadata": {},
   "outputs": [],
   "source": [
    "# Copy function Below"
   ]
  }
 ],
 "metadata": {
  "colab": {
   "collapsed_sections": [],
   "name": "lab 1 - perceptron",
   "provenance": []
  },
  "kernelspec": {
   "display_name": "Python 3",
   "language": "python",
   "name": "python3"
  },
  "language_info": {
   "codemirror_mode": {
    "name": "ipython",
    "version": 3
   },
   "file_extension": ".py",
   "mimetype": "text/x-python",
   "name": "python",
   "nbconvert_exporter": "python",
   "pygments_lexer": "ipython3",
   "version": "3.8.5"
  }
 },
 "nbformat": 4,
 "nbformat_minor": 4
}
