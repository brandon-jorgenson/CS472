{
 "cells": [
  {
   "cell_type": "markdown",
   "metadata": {
    "id": "DVL7_bgmIAPR"
   },
   "source": [
    "# K-Nearest Neighbor Lab\n",
    "\n",
    "\n",
    "\n"
   ]
  },
  {
   "cell_type": "code",
   "execution_count": 122,
   "metadata": {
    "id": "6ZbYjZZZ_yLV"
   },
   "outputs": [],
   "source": [
    "from sklearn.base import BaseEstimator, ClassifierMixin\n",
    "from sklearn.neighbors import KNeighborsClassifier, KNeighborsRegressor\n",
    "import numpy as np\n",
    "import matplotlib.pyplot as plt\n",
    "from scipy.io import arff\n",
    "import pandas as pd\n",
    "from sklearn.model_selection import train_test_split\n",
    "from sklearn.neighbors import KNeighborsRegressor\n",
    "from sklearn.neighbors import KNeighborsClassifier"
   ]
  },
  {
   "cell_type": "markdown",
   "metadata": {
    "id": "sCcEPx5VIORj"
   },
   "source": [
    "## 1. (40%) Correctly implement the k-nearest neighbor (KNN) algorithm and the KNN regression algorithm\n",
    "\n",
    "### Code requirements\n",
    "- Use Euclidean distance to decide closest neighbors. \n",
    "- Include optional distance weighting for both algorithms\n"
   ]
  },
  {
   "cell_type": "code",
   "execution_count": 118,
   "metadata": {
    "id": "_a2KSZ_7AN0G"
   },
   "outputs": [],
   "source": [
    "class KNNClassifier(BaseEstimator,ClassifierMixin):\n",
    "    def __init__(self, columntype=[], weight_type='inverse_distance', k=3, normalize=False, regression=False):\n",
    "        self.columntype = columntype \n",
    "        self.weight_type = weight_type\n",
    "        self.k = k\n",
    "        self.normalize = normalize\n",
    "        self.regression = regression\n",
    "\n",
    "    def fit(self, X, y):\n",
    "        if self.normalize:\n",
    "            X = self.normalize_X(X)\n",
    "        self.trained_X = X\n",
    "        self.trained_y = y\n",
    "        return self\n",
    "    \n",
    "    def predict(self, X):\n",
    "        prediction = np.array([])\n",
    "        for row in X:\n",
    "            prediction = np.append(prediction, self.calculateNearestNeighbor(row))\n",
    "        return prediction, prediction.shape[0]\n",
    "        \n",
    "    def calculateNearestNeighbor(self, data_row):\n",
    "        if len(self.columntype) == 0:\n",
    "            distances = np.linalg.norm(self.trained_X - data_row, axis=1)\n",
    "        else:\n",
    "            trained_copy = np.copy(self.trained_X)\n",
    "            for x,y in np.ndindex(trained_copy.shape):\n",
    "                    if self.columntype[y] == \"nominal\":\n",
    "                        if trained_copy[x,y] == data_row[y]:\n",
    "                            trained_copy[x,y] = 0\n",
    "                        else:\n",
    "                            trained_copy[x,y] = 1\n",
    "            for x in range(len(data_row)):\n",
    "                if self.columntype[x] == \"nominal\":\n",
    "                    data_row[x] = 0\n",
    "            distances = np.linalg.norm(trained_copy.astype(np.float64) - data_row.astype(np.float64), axis=1)\n",
    "        distances = np.array((distances, self.trained_y)).T.astype(str)\n",
    "        distances = distances[distances[:,0].astype(float).argsort()]\n",
    "        neighbors = distances[:self.k]\n",
    "        if self.regression:\n",
    "            if self.weight_type == 'no_weight':\n",
    "                winner = np.average(neighbors[:,1].astype(float))\n",
    "            else:\n",
    "                weights = np.array([])\n",
    "                winner = 0\n",
    "                numerator = 0\n",
    "                for row in neighbors:\n",
    "                    if(float(row[0]) > 0):\n",
    "                        weights = np.append(weights, 1/float(row[0])**2)\n",
    "                    else:\n",
    "                        weights = np.append(weights, 0.0)\n",
    "                denominator = np.sum(weights)\n",
    "                for i in range(len(neighbors)):\n",
    "                    numerator += neighbors[i,1].astype(float)/(neighbors[i,0].astype(float)**2)\n",
    "                winner = numerator/denominator\n",
    "        elif self.weight_type == 'no_weight':\n",
    "            values, counts = np.unique(neighbors[:,1], return_counts=True)\n",
    "            winner = values[np.argmax(counts)]\n",
    "        else:\n",
    "            weights = np.array([])\n",
    "            for row in neighbors:\n",
    "                if(float(row[0]) > 0):\n",
    "                    weights = np.append(weights, 1/float(row[0])**2)\n",
    "                else:\n",
    "                    weights = np.append(weights, 0.0)\n",
    "            values = neighbors[:,1]\n",
    "            unique_values = np.unique(values)\n",
    "            added_weights = np.zeros(len(unique_values))\n",
    "            for i in range(len(weights)):\n",
    "                added_indx = np.where(unique_values==values[i])\n",
    "                added_weights[added_indx] += weights[i]\n",
    "            winner = unique_values[np.argmax(added_weights)]\n",
    "        return winner\n",
    "        \n",
    "    def score(self, X, y, k=3):\n",
    "        self.k = k\n",
    "        if self.normalize:\n",
    "            X = self.normalize_X(X)\n",
    "        prediction, length = self.predict(X)\n",
    "        if self.regression:\n",
    "            return np.square(np.subtract(y,prediction)).mean() \n",
    "        else:\n",
    "            correct = 0\n",
    "            for i in range(length):\n",
    "                if prediction[i] == y[i]:\n",
    "                    correct += 1\n",
    "            return correct/length\n",
    "    \n",
    "    def normalize_X(self, X):\n",
    "        index = 0\n",
    "        for col in X.T:\n",
    "            X[:,index] = (col - col.min()) / (col.max() - col.min())\n",
    "            index += 1\n",
    "        return X\n",
    "    \n",
    "    def fill_unknown_values(self, X):\n",
    "        index = 0\n",
    "        for col in X.T:\n",
    "            if self.columntype[index] == \"nominal\":\n",
    "                values, counts = np.unique(col, return_counts=True)\n",
    "                mean = values[np.argmax(counts)]\n",
    "                nan_indexes = np.where(col == \"?\")\n",
    "            else:\n",
    "                mean = np.nanmean(col.astype(np.float64))\n",
    "                nan_indexes = np.where(np.isnan(col.astype(np.float64)))\n",
    "            for i in nan_indexes[0]:\n",
    "                col[i] = mean\n",
    "            index += 1\n",
    "        return X"
   ]
  },
  {
   "cell_type": "markdown",
   "metadata": {},
   "source": [
    "## 1.1 Debug and Evaluation\n",
    "\n",
    "Debug and Evaluate your model using the parameters below:\n",
    "\n",
    "- Use distance weighting\n",
    "- KNN = 3 (three nearest neighbors)\n",
    "- Don’t normalize the data\n",
    "- Use Euclidean Distance\n",
    "\n",
    "---\n",
    "\n",
    "### 1.1.1 Debug\n",
    "\n",
    "Debug your model by running it on the [seismic bumps](https://archive.ics.uci.edu/ml/datasets/seismic-bumps) problem.\n",
    "- Use this [training set](https://raw.githubusercontent.com/cs472ta/CS472/master/datasets/seismic-bumps_train.arff) and this [test set](https://raw.githubusercontent.com/cs472ta/CS472/master/datasets/seismic-bumps_test.arff)\n",
    "- Use distance weighting\n",
    "- KNN = 3 (three nearest neighbors)\n",
    "- Don’t normalize the data\n",
    "- Use Euclidean Distance\n",
    "\n",
    "Expected Results:\n",
    "- Acc = [93.57]\n",
    "- Link to [debug solution](https://github.com/cs472ta/CS472/blob/master/debug_solutions/seismic-bump-prediction.csv)\n"
   ]
  },
  {
   "cell_type": "code",
   "execution_count": 175,
   "metadata": {},
   "outputs": [
    {
     "name": "stdout",
     "output_type": "stream",
     "text": [
      "  % Total    % Received % Xferd  Average Speed   Time    Time     Time  Current\n",
      "                                 Dload  Upload   Total   Spent    Left  Speed\n",
      "100  6392  100  6392    0     0  26196      0 --:--:-- --:--:-- --:--:-- 26196\n",
      "  % Total    % Received % Xferd  Average Speed   Time    Time     Time  Current\n",
      "                                 Dload  Upload   Total   Spent    Left  Speed\n",
      "100  9597  100  9597    0     0  28733      0 --:--:-- --:--:-- --:--:-- 28647\n"
     ]
    },
    {
     "data": {
      "text/plain": [
       "0.9357142857142857"
      ]
     },
     "execution_count": 175,
     "metadata": {},
     "output_type": "execute_result"
    }
   ],
   "source": [
    "!curl https://raw.githubusercontent.com/cs472ta/CS472/master/datasets/seismic-bumps_train.arff --output dataset.arff\n",
    "data = arff.loadarff('dataset.arff')\n",
    "df = pd.DataFrame(data[0])\n",
    "df['Class'] = df['Class'].apply(lambda x: x.decode('utf-8'))\n",
    "np_data = np.array(df)\n",
    "X = np_data[:,0:-1].astype(np.float64)\n",
    "y = np.squeeze(np.reshape(np_data[:,-1], (-1, 1)))\n",
    "knn = KNNClassifier().fit(X,y)\n",
    "\n",
    "!curl https://raw.githubusercontent.com/cs472ta/CS472/master/datasets/seismic-bumps_test.arff --output dataset.arff\n",
    "data = arff.loadarff('dataset.arff')\n",
    "df = pd.DataFrame(data[0])\n",
    "df['Class'] = df['Class'].apply(lambda x: x.decode('utf-8'))\n",
    "np_data = np.array(df)\n",
    "X = np_data[:,0:-1].astype(np.float64)\n",
    "y = np.squeeze(np.reshape(np_data[:,-1], (-1, 1)))\n",
    "knn.score(X,y)"
   ]
  },
  {
   "cell_type": "markdown",
   "metadata": {},
   "source": [
    "### 1.1.2 Evaluate\n",
    "\n",
    "We will evaluate your model based on its performance on the [diabetes](https://archive.ics.uci.edu/ml/datasets/Diabetes) problem.\n",
    "- Use this [training set](https://raw.githubusercontent.com/cs472ta/CS472/master/datasets/diabetes_train.arff) and this [test set](https://raw.githubusercontent.com/cs472ta/CS472/master/datasets/diabetes_test.arff)"
   ]
  },
  {
   "cell_type": "code",
   "execution_count": 176,
   "metadata": {},
   "outputs": [
    {
     "name": "stdout",
     "output_type": "stream",
     "text": [
      "  % Total    % Received % Xferd  Average Speed   Time    Time     Time  Current\n",
      "                                 Dload  Upload   Total   Spent    Left  Speed\n",
      "100 37419  100 37419    0     0   110k      0 --:--:-- --:--:-- --:--:--  109k\n",
      "  % Total    % Received % Xferd  Average Speed   Time    Time     Time  Current\n",
      "                                 Dload  Upload   Total   Spent    Left  Speed\n",
      "100 73698  100 73698    0     0   186k      0 --:--:-- --:--:-- --:--:--  186k\n"
     ]
    },
    {
     "data": {
      "text/plain": [
       "0.890625"
      ]
     },
     "execution_count": 176,
     "metadata": {},
     "output_type": "execute_result"
    }
   ],
   "source": [
    "# Load diabetes data\n",
    "!curl https://raw.githubusercontent.com/cs472ta/CS472/master/datasets/diabetes_train.arff --output dataset.arff\n",
    "data = arff.loadarff('dataset.arff')\n",
    "df = pd.DataFrame(data[0])\n",
    "df['class'] = df['class'].apply(lambda x: x.decode('utf-8'))\n",
    "np_data = np.array(df)\n",
    "X = np_data[:,0:-1].astype(np.float64)\n",
    "y = np.squeeze(np.reshape(np_data[:,-1], (-1, 1)))\n",
    "knn = KNNClassifier().fit(X,y)\n",
    "\n",
    "!curl https://raw.githubusercontent.com/cs472ta/CS472/master/datasets/diabetes_test.arff --output dataset.arff\n",
    "data = arff.loadarff('dataset.arff')\n",
    "df = pd.DataFrame(data[0])\n",
    "df['class'] = df['class'].apply(lambda x: x.decode('utf-8'))\n",
    "np_data = np.array(df)\n",
    "X = np_data[:,0:-1].astype(np.float64)\n",
    "y = np.squeeze(np.reshape(np_data[:,-1], (-1, 1)))\n",
    "knn.score(X,y)"
   ]
  },
  {
   "cell_type": "markdown",
   "metadata": {
    "id": "9vWiTdlbR2Xh"
   },
   "source": [
    "## 2. (10%) Use the k-nearest neighbor algorithm (without distance weighting) for the [magic telescope](http://archive.ics.uci.edu/ml/datasets/MAGIC+Gamma+Telescope) problem\n",
    "\n",
    "- Use this [training set](https://raw.githubusercontent.com/cs472ta/CS472/master/datasets/magic_telescope_train.arff) and this [test set](https://raw.githubusercontent.com/cs472ta/CS472/master/datasets/magic_telescope_test.arff) \n",
    "\n",
    "### 2.1\n",
    "- Try it with k=3 and without normalization\n"
   ]
  },
  {
   "cell_type": "code",
   "execution_count": 281,
   "metadata": {
    "id": "4SSoasDQSKXb"
   },
   "outputs": [
    {
     "name": "stdout",
     "output_type": "stream",
     "text": [
      "  % Total    % Received % Xferd  Average Speed   Time    Time     Time  Current\n",
      "                                 Dload  Upload   Total   Spent    Left  Speed\n",
      "100  937k  100  937k    0     0  1978k      0 --:--:-- --:--:-- --:--:-- 1978k\n",
      "  % Total    % Received % Xferd  Average Speed   Time    Time     Time  Current\n",
      "                                 Dload  Upload   Total   Spent    Left  Speed\n",
      "100  505k  100  505k    0     0  1377k      0 --:--:-- --:--:-- --:--:-- 1377k\n"
     ]
    },
    {
     "data": {
      "text/plain": [
       "0.8082808280828083"
      ]
     },
     "execution_count": 281,
     "metadata": {},
     "output_type": "execute_result"
    }
   ],
   "source": [
    "!curl https://raw.githubusercontent.com/cs472ta/CS472/master/datasets/magic_telescope_train.arff --output dataset.arff\n",
    "data = arff.loadarff('dataset.arff')\n",
    "df = pd.DataFrame(data[0])\n",
    "df['class'] = df['class'].apply(lambda x: x.decode('utf-8'))\n",
    "np_data = np.array(df)\n",
    "X = np_data[:,0:-1].astype(np.float64)\n",
    "y = np.squeeze(np.reshape(np_data[:,-1], (-1, 1)))\n",
    "knn = KNNClassifier(weight_type='no_weight').fit(X,y)\n",
    "\n",
    "!curl https://raw.githubusercontent.com/cs472ta/CS472/master/datasets/magic_telescope_test.arff --output dataset.arff\n",
    "data = arff.loadarff('dataset.arff')\n",
    "df = pd.DataFrame(data[0])\n",
    "df['class'] = df['class'].apply(lambda x: x.decode('utf-8'))\n",
    "np_data = np.array(df)\n",
    "X = np_data[:,0:-1].astype(np.float64)\n",
    "y = np.squeeze(np.reshape(np_data[:,-1], (-1, 1)))\n",
    "knn.score(X,y)\n"
   ]
  },
  {
   "cell_type": "markdown",
   "metadata": {},
   "source": [
    "### 2.2\n",
    "- Try it with k=3 and with normalization (input features normalized between 0 and 1). Use the normalization formula (x-xmin)/(xmax-xmin)"
   ]
  },
  {
   "cell_type": "code",
   "execution_count": 282,
   "metadata": {},
   "outputs": [
    {
     "name": "stdout",
     "output_type": "stream",
     "text": [
      "  % Total    % Received % Xferd  Average Speed   Time    Time     Time  Current\n",
      "                                 Dload  Upload   Total   Spent    Left  Speed\n",
      "100  937k  100  937k    0     0  3648k      0 --:--:-- --:--:-- --:--:-- 3648k\n",
      "  % Total    % Received % Xferd  Average Speed   Time    Time     Time  Current\n",
      "                                 Dload  Upload   Total   Spent    Left  Speed\n",
      "100  505k  100  505k    0     0   963k      0 --:--:-- --:--:-- --:--:--  963k\n"
     ]
    },
    {
     "data": {
      "text/plain": [
       "0.8157815781578158"
      ]
     },
     "execution_count": 282,
     "metadata": {},
     "output_type": "execute_result"
    }
   ],
   "source": [
    "!curl https://raw.githubusercontent.com/cs472ta/CS472/master/datasets/magic_telescope_train.arff --output dataset.arff\n",
    "data = arff.loadarff('dataset.arff')\n",
    "df = pd.DataFrame(data[0])\n",
    "df['class'] = df['class'].apply(lambda x: x.decode('utf-8'))\n",
    "np_data = np.array(df)\n",
    "X = np_data[:,0:-1].astype(np.float64)\n",
    "y = np.squeeze(np.reshape(np_data[:,-1], (-1, 1)))\n",
    "knn = KNNClassifier(normalize=True, weight_type='no_weight').fit(X,y)\n",
    "\n",
    "!curl https://raw.githubusercontent.com/cs472ta/CS472/master/datasets/magic_telescope_test.arff --output dataset.arff\n",
    "data = arff.loadarff('dataset.arff')\n",
    "df = pd.DataFrame(data[0])\n",
    "df['class'] = df['class'].apply(lambda x: x.decode('utf-8'))\n",
    "np_data = np.array(df)\n",
    "X = np_data[:,0:-1].astype(np.float64)\n",
    "y = np.squeeze(np.reshape(np_data[:,-1], (-1, 1)))\n",
    "knn.score(X,y)\n",
    "\n"
   ]
  },
  {
   "cell_type": "markdown",
   "metadata": {},
   "source": [
    "I got about a 1% accuracy increase by normalizing the data, from 80.82% to 81.58% accuracy. "
   ]
  },
  {
   "cell_type": "markdown",
   "metadata": {},
   "source": [
    "### 2.3\n",
    "\n",
    "- Using your normalized data, create one graph with classification accuracy on the test set over k values. \n",
    "    - Use odd values of k from 1 to 15.\n",
    "- As a rough sanity check, typical knn accuracies for the magic telescope data set are 75-85%"
   ]
  },
  {
   "cell_type": "code",
   "execution_count": 5,
   "metadata": {},
   "outputs": [
    {
     "name": "stdout",
     "output_type": "stream",
     "text": [
      "  % Total    % Received % Xferd  Average Speed   Time    Time     Time  Current\n",
      "                                 Dload  Upload   Total   Spent    Left  Speed\n",
      "100  937k  100  937k    0     0  1769k      0 --:--:-- --:--:-- --:--:-- 1765k\n",
      "  % Total    % Received % Xferd  Average Speed   Time    Time     Time  Current\n",
      "                                 Dload  Upload   Total   Spent    Left  Speed\n",
      "100  505k  100  505k    0     0  1327k      0 --:--:-- --:--:-- --:--:-- 1327k\n"
     ]
    },
    {
     "data": {
      "image/png": "[encoded data removed]",
      "text/plain": [
       "<Figure size 432x288 with 1 Axes>"
      ]
     },
     "metadata": {
      "needs_background": "light"
     },
     "output_type": "display_data"
    }
   ],
   "source": [
    "!curl https://raw.githubusercontent.com/cs472ta/CS472/master/datasets/magic_telescope_train.arff --output dataset.arff\n",
    "data = arff.loadarff('dataset.arff')\n",
    "df = pd.DataFrame(data[0])\n",
    "df['class'] = df['class'].apply(lambda x: x.decode('utf-8'))\n",
    "np_data = np.array(df)\n",
    "X = np_data[:,0:-1].astype(np.float64)\n",
    "y = np.squeeze(np.reshape(np_data[:,-1], (-1, 1)))\n",
    "knn = KNNClassifier(normalize=True, weight_type='no_weight').fit(X,y)\n",
    "\n",
    "!curl https://raw.githubusercontent.com/cs472ta/CS472/master/datasets/magic_telescope_test.arff --output dataset.arff\n",
    "data = arff.loadarff('dataset.arff')\n",
    "df = pd.DataFrame(data[0])\n",
    "df['class'] = df['class'].apply(lambda x: x.decode('utf-8'))\n",
    "np_data = np.array(df)\n",
    "X = np_data[:,0:-1].astype(np.float64)\n",
    "y = np.squeeze(np.reshape(np_data[:,-1], (-1, 1)))\n",
    "\n",
    "accuracy_values = np.array([])\n",
    "k_values = np.array([])\n",
    "for i in range(1,16,2):\n",
    "    k_values = np.append(k_values, i)\n",
    "    accuracy_values = np.append(accuracy_values,knn.score(X,y,k=i))\n",
    "plt.plot(k_values, accuracy_values)\n",
    "plt.show()\n"
   ]
  },
  {
   "cell_type": "markdown",
   "metadata": {},
   "source": [
    "# For the rest of the experiments use only normalized data"
   ]
  },
  {
   "cell_type": "markdown",
   "metadata": {
    "id": "SIRG42TgSR4x"
   },
   "source": [
    "## 3. (10%) Use the regression variation of your algorithm (without distance weighting) for the [housing price prediction](https://www.cs.toronto.edu/~delve/data/boston/bostonDetail.html) problem.\n",
    "\n",
    "- Use this [training set](https://raw.githubusercontent.com/cs472ta/CS472/master/datasets/housing_train.arff) and this [test set](https://raw.githubusercontent.com/cs472ta/CS472/master/datasets/housing_test.arff).\n",
    "- Use Mean Square Error (MSE) on the test set as your accuracy metric for this case.\n",
    "    - Do not normalize regression output values\n",
    "- Graph MSE on the test set with odd values of k from 1 to 15\n"
   ]
  },
  {
   "cell_type": "code",
   "execution_count": 4,
   "metadata": {
    "id": "KBGUn43ASiXW"
   },
   "outputs": [
    {
     "name": "stdout",
     "output_type": "stream",
     "text": [
      "  % Total    % Received % Xferd  Average Speed   Time    Time     Time  Current\n",
      "                                 Dload  Upload   Total   Spent    Left  Speed\n",
      "100 34205  100 34205    0     0   103k      0 --:--:-- --:--:-- --:--:--  103k\n",
      "  % Total    % Received % Xferd  Average Speed   Time    Time     Time  Current\n",
      "                                 Dload  Upload   Total   Spent    Left  Speed\n",
      "100  3885  100  3885    0     0  10471      0 --:--:-- --:--:-- --:--:-- 10443\n"
     ]
    },
    {
     "data": {
      "image/png": "[encoded data removed]",
      "text/plain": [
       "<Figure size 432x288 with 1 Axes>"
      ]
     },
     "metadata": {
      "needs_background": "light"
     },
     "output_type": "display_data"
    }
   ],
   "source": [
    "# Load housing price prediction data\n",
    "!curl https://raw.githubusercontent.com/cs472ta/CS472/master/datasets/housing_train.arff --output dataset.arff\n",
    "data = arff.loadarff('dataset.arff')\n",
    "df = pd.DataFrame(data[0])\n",
    "np_data = np.array(df)\n",
    "X = np_data[:,0:-1].astype(np.float64)\n",
    "y = np.squeeze(np.reshape(np_data[:,-1], (-1, 1)))\n",
    "knn = KNNClassifier(normalize=True, regression=True, weight_type='no_weight').fit(X,y)\n",
    "\n",
    "!curl https://raw.githubusercontent.com/cs472ta/CS472/master/datasets/housing_test.arff --output dataset.arff\n",
    "data = arff.loadarff('dataset.arff')\n",
    "df = pd.DataFrame(data[0])\n",
    "np_data = np.array(df)\n",
    "X = np_data[:,0:-1].astype(np.float64)\n",
    "y = np.squeeze(np.reshape(np_data[:,-1], (-1, 1)))\n",
    "knn.score(X,y,k=7)\n",
    "# Train/Predict using k=1,3,...,15\n",
    "\n",
    "accuracy_values = np.array([])\n",
    "k_values = np.array([])\n",
    "for i in range(1,16,2):\n",
    "    k_values = np.append(k_values, i)\n",
    "    accuracy_values = np.append(accuracy_values,knn.score(X,y,k=i))\n",
    "plt.plot(k_values, accuracy_values)\n",
    "plt.show()\n",
    "# Graph MSE over k\n"
   ]
  },
  {
   "cell_type": "markdown",
   "metadata": {
    "id": "v19fpixqTe-7"
   },
   "source": [
    "## 4. (15%) Repeat your experiments for magic telescope and housing using distance-weighted (inverse of distance squared) voting and discuss your results.\n"
   ]
  },
  {
   "cell_type": "code",
   "execution_count": 26,
   "metadata": {
    "id": "ZCPFUAGTS2sX"
   },
   "outputs": [
    {
     "name": "stdout",
     "output_type": "stream",
     "text": [
      "  % Total    % Received % Xferd  Average Speed   Time    Time     Time  Current\n",
      "                                 Dload  Upload   Total   Spent    Left  Speed\n",
      "100  937k  100  937k    0     0  1636k      0 --:--:-- --:--:-- --:--:-- 1633k\n",
      "  % Total    % Received % Xferd  Average Speed   Time    Time     Time  Current\n",
      "                                 Dload  Upload   Total   Spent    Left  Speed\n",
      "100  505k  100  505k    0     0   857k      0 --:--:-- --:--:-- --:--:--  855k\n"
     ]
    },
    {
     "data": {
      "image/png": "[encoded data removed]",
      "text/plain": [
       "<Figure size 432x288 with 1 Axes>"
      ]
     },
     "metadata": {
      "needs_background": "light"
     },
     "output_type": "display_data"
    },
    {
     "name": "stdout",
     "output_type": "stream",
     "text": [
      "  % Total    % Received % Xferd  Average Speed   Time    Time     Time  Current\n",
      "                                 Dload  Upload   Total   Spent    Left  Speed\n",
      "100 34205  100 34205    0     0   118k      0 --:--:-- --:--:-- --:--:--  118k\n",
      "  % Total    % Received % Xferd  Average Speed   Time    Time     Time  Current\n",
      "                                 Dload  Upload   Total   Spent    Left  Speed\n",
      "100  3885  100  3885    0     0  10732      0 --:--:-- --:--:-- --:--:-- 10732\n"
     ]
    },
    {
     "data": {
      "image/png": "[encoded data removed]",
      "text/plain": [
       "<Figure size 432x288 with 1 Axes>"
      ]
     },
     "metadata": {
      "needs_background": "light"
     },
     "output_type": "display_data"
    }
   ],
   "source": [
    "# Train/Predict magic telescope using distance-weighted voting\n",
    "!curl https://raw.githubusercontent.com/cs472ta/CS472/master/datasets/magic_telescope_train.arff --output dataset.arff\n",
    "data = arff.loadarff('dataset.arff')\n",
    "df = pd.DataFrame(data[0])\n",
    "df['class'] = df['class'].apply(lambda x: x.decode('utf-8'))\n",
    "np_data = np.array(df)\n",
    "X = np_data[:,0:-1].astype(np.float64)\n",
    "y = np.squeeze(np.reshape(np_data[:,-1], (-1, 1)))\n",
    "knn = KNNClassifier(normalize=True).fit(X,y)\n",
    "\n",
    "!curl https://raw.githubusercontent.com/cs472ta/CS472/master/datasets/magic_telescope_test.arff --output dataset.arff\n",
    "data = arff.loadarff('dataset.arff')\n",
    "df = pd.DataFrame(data[0])\n",
    "df['class'] = df['class'].apply(lambda x: x.decode('utf-8'))\n",
    "np_data = np.array(df)\n",
    "X = np_data[:,0:-1].astype(np.float64)\n",
    "y = np.squeeze(np.reshape(np_data[:,-1], (-1, 1)))\n",
    "\n",
    "accuracy_values = np.array([])\n",
    "k_values = np.array([])\n",
    "for i in range(1,16,2):\n",
    "    k_values = np.append(k_values, i)\n",
    "    accuracy_values = np.append(accuracy_values,knn.score(X,y,k=i))\n",
    "plt.plot(k_values, accuracy_values)\n",
    "plt.show()\n",
    "\n",
    "# Train/Predict housing using distance-weighted voting\n",
    "!curl https://raw.githubusercontent.com/cs472ta/CS472/master/datasets/housing_train.arff --output dataset.arff\n",
    "data = arff.loadarff('dataset.arff')\n",
    "df = pd.DataFrame(data[0])\n",
    "np_data = np.array(df)\n",
    "X = np_data[:,0:-1].astype(np.float64)\n",
    "y = np.squeeze(np.reshape(np_data[:,-1], (-1, 1)))\n",
    "knn = KNNClassifier(normalize=True, regression=True).fit(X,y)\n",
    "\n",
    "!curl https://raw.githubusercontent.com/cs472ta/CS472/master/datasets/housing_test.arff --output dataset.arff\n",
    "data = arff.loadarff('dataset.arff')\n",
    "df = pd.DataFrame(data[0])\n",
    "np_data = np.array(df)\n",
    "X = np_data[:,0:-1].astype(np.float64)\n",
    "y = np.squeeze(np.reshape(np_data[:,-1], (-1, 1)))\n",
    "\n",
    "accuracy_values = np.array([])\n",
    "k_values = np.array([])\n",
    "for i in range(1,16,2):\n",
    "    k_values = np.append(k_values, i)\n",
    "    accuracy_values = np.append(accuracy_values,knn.score(X,y,k=i))\n",
    "plt.plot(k_values, accuracy_values)\n",
    "plt.show()\n"
   ]
  },
  {
   "cell_type": "markdown",
   "metadata": {},
   "source": [
    "For the magic telescope dataset, using normalized data and distance weighting increased the accuracy by up to 1%, but as the number of neighbors increased, the difference in accuracy was minimal.\n",
    "\n",
    "For the housing dataset, normalizing the data led to a lower MSE overall, and the MSE stayed low as the number of neighbors increased, whereas the MSE increased when using no weighting after the number of neighbors were greater than 3."
   ]
  },
  {
   "cell_type": "markdown",
   "metadata": {},
   "source": [
    "## 5. (10%) Use the k-nearest neighbor algorithm to solve the [credit-approval](https://archive.ics.uci.edu/ml/datasets/Credit+Approval) (credit-a) problem.\n",
    "\n",
    "- Use this [dataset](https://raw.githubusercontent.com/cs472ta/CS472/master/datasets/credit_approval.arff)\n",
    "    - Use a 70/30 split of the data for the training/test set\n",
    "- Note that this set has both continuous and nominal attributes, together with don’t know values. \n",
    "- Implement and justify a distance metric which supports continuous, nominal, and don’t know attribute values\n",
    "    - You need to handle don't knows with the distance metric, not by imputing a value.\n",
    "    - More information on distance metrics can be found [here](https://www.jair.org/index.php/jair/article/view/10182/24168).\n",
    "- Use your own choice for k.\n",
    "- As a rough sanity check, typical knn accuracies for the credit data set are 70-80%.\n"
   ]
  },
  {
   "cell_type": "code",
   "execution_count": 121,
   "metadata": {},
   "outputs": [
    {
     "name": "stdout",
     "output_type": "stream",
     "text": [
      "  % Total    % Received % Xferd  Average Speed   Time    Time     Time  Current\n",
      "                                 Dload  Upload   Total   Spent    Left  Speed\n",
      "100 34315  100 34315    0     0   328k      0 --:--:-- --:--:-- --:--:--  328k\n"
     ]
    },
    {
     "data": {
      "text/plain": [
       "0.8454106280193237"
      ]
     },
     "execution_count": 121,
     "metadata": {},
     "output_type": "execute_result"
    }
   ],
   "source": [
    "# Load dataset and split into train/test sets\n",
    "!curl https://raw.githubusercontent.com/cs472ta/CS472/master/datasets/credit_approval.arff --output dataset.arff\n",
    "data = arff.loadarff('dataset.arff')\n",
    "df = pd.DataFrame(data[0])\n",
    "\n",
    "# Decode bytes and normalize floats\n",
    "for column_name, column_data in df.iteritems():\n",
    "    if column_data.dtype == object:\n",
    "        df[column_name] = df[column_name].apply(lambda x: x.decode('utf-8'))\n",
    "    else:\n",
    "        df[column_name] =(df[column_name]-df[column_name].min())/(df[column_name].max()-df[column_name].min())\n",
    "        \n",
    "column_types = [\"nominal\", \"real\", \"real\", \"nominal\", \"nominal\",\n",
    "               \"nominal\", \"nominal\", \"real\",  \"nominal\", \"nominal\",\n",
    "              \"real\",  \"nominal\",  \"nominal\", \"real\", \"real\"]\n",
    "np_data = np.array(df)\n",
    "X = np_data[:,0:-1]\n",
    "y = np.squeeze(np.reshape(np_data[:,-1], (-1, 1)))\n",
    "\n",
    "knn = KNNClassifier(columntype=column_types)\n",
    "# Fill unknown ? values with the averages of each column \n",
    "X = knn.fill_unknown_values(X)\n",
    "\n",
    "#Split test and train\n",
    "X_train, X_test, y_train, y_test=train_test_split(X,y,test_size=0.3)\n",
    "\n",
    "#Fit and score\n",
    "knn.fit(X_train,y_train)\n",
    "knn.score(X_test, y_test)\n",
    "\n",
    "\n"
   ]
  },
  {
   "cell_type": "markdown",
   "metadata": {},
   "source": [
    "This is how I handle different types of values:\n",
    "\n",
    "Unknown: Before I fit, I use my KNN to fill in unknown values for each column by using the average value of that column (for continuous data) or using the most common value for that column (for nominal data)\n",
    "\n",
    "Continuous: I use euclidian distance\n",
    "\n",
    "Nominal: When I test the distance from the data to the row of test data, I mark equivalent values as a distance of zero away, and non-equivalent values as a distance of one away. This way there is no distance to the same value and the same distance to every other value.\n",
    "\n",
    "I used k=3 to get the above result."
   ]
  },
  {
   "cell_type": "markdown",
   "metadata": {
    "id": "oBBmeNQ7jvcQ"
   },
   "source": [
    "## 6. (15%) Use the scikit's KNN Classifier on magic telescope and KNN Regressor on housing and compare your results.\n",
    "\n",
    "- Try out different hyperparameters to see how well you can do. \n"
   ]
  },
  {
   "cell_type": "code",
   "execution_count": 174,
   "metadata": {
    "id": "OFQv70W2VyqJ"
   },
   "outputs": [
    {
     "name": "stdout",
     "output_type": "stream",
     "text": [
      "  % Total    % Received % Xferd  Average Speed   Time    Time     Time  Current\n",
      "                                 Dload  Upload   Total   Spent    Left  Speed\n",
      "100  937k  100  937k    0     0  3459k      0 --:--:-- --:--:-- --:--:-- 3459k\n",
      "  % Total    % Received % Xferd  Average Speed   Time    Time     Time  Current\n",
      "                                 Dload  Upload   Total   Spent    Left  Speed\n",
      "100  505k  100  505k    0     0  2633k      0 --:--:-- --:--:-- --:--:-- 2647k\n",
      "Magic telescope score: 0.8301830183018302\n",
      "  % Total    % Received % Xferd  Average Speed   Time    Time     Time  Current\n",
      "                                 Dload  Upload   Total   Spent    Left  Speed\n",
      "100 34205  100 34205    0     0      0      0 --:--:-- --:--:-- --:--:--     0   0   347k      0 --:--:-- --:--:-- --:--:--  347k\n",
      "  % Total    % Received % Xferd  Average Speed   Time    Time     Time  Current\n",
      "                                 Dload  Upload   Total   Spent    Left  Speed\n",
      "100  3885  100  3885    0     0  42692      0 --:--:-- --:--:-- --:--:-- 42692\n",
      "Housing score: 0.8312297109129108\n"
     ]
    }
   ],
   "source": [
    "# Train/Predict magic telescope using scikit's KNN\n",
    "!curl https://raw.githubusercontent.com/cs472ta/CS472/master/datasets/magic_telescope_train.arff --output dataset.arff\n",
    "data = arff.loadarff('dataset.arff')\n",
    "df = pd.DataFrame(data[0])\n",
    "df['class'] = df['class'].apply(lambda x: x.decode('utf-8'))\n",
    "np_data = np.array(df)\n",
    "X = np_data[:,0:-1].astype(np.float64)\n",
    "y = np.squeeze(np.reshape(np_data[:,-1], (-1, 1)))\n",
    "knn = KNNClassifier(columntype=column_types)\n",
    "X = knn.normalize_X(X)\n",
    "\n",
    "neigh = KNeighborsClassifier(n_neighbors=13, weights='distance')\n",
    "neigh.fit(X, y)\n",
    "\n",
    "!curl https://raw.githubusercontent.com/cs472ta/CS472/master/datasets/magic_telescope_test.arff --output dataset.arff\n",
    "data = arff.loadarff('dataset.arff')\n",
    "df = pd.DataFrame(data[0])\n",
    "df['class'] = df['class'].apply(lambda x: x.decode('utf-8'))\n",
    "np_data = np.array(df)\n",
    "X = np_data[:,0:-1].astype(np.float64)\n",
    "y = np.squeeze(np.reshape(np_data[:,-1], (-1, 1)))\n",
    "X = knn.normalize_X(X)\n",
    "print(\"Magic telescope score:\", neigh.score(X, y))\n",
    "\n",
    "# Train/Predict housing using scikit's KNN\n",
    "\n",
    "!curl https://raw.githubusercontent.com/cs472ta/CS472/master/datasets/housing_train.arff --output dataset.arff\n",
    "data = arff.loadarff('dataset.arff')\n",
    "df = pd.DataFrame(data[0])\n",
    "np_data = np.array(df)\n",
    "X = np_data[:,0:-1].astype(np.float64)\n",
    "y = np.squeeze(np.reshape(np_data[:,-1], (-1, 1)))\n",
    "X = knn.normalize_X(X)\n",
    "\n",
    "neigh = KNeighborsRegressor(n_neighbors=3, weights='distance')\n",
    "neigh.fit(X, y)\n",
    "\n",
    "!curl https://raw.githubusercontent.com/cs472ta/CS472/master/datasets/housing_test.arff --output dataset.arff\n",
    "data = arff.loadarff('dataset.arff')\n",
    "df = pd.DataFrame(data[0])\n",
    "np_data = np.array(df)\n",
    "X = np_data[:,0:-1].astype(np.float64)\n",
    "y = np.squeeze(np.reshape(np_data[:,-1], (-1, 1)))\n",
    "X = knn.normalize_X(X)\n",
    "\n",
    "print(\"Housing score:\", neigh.score(X, y))\n"
   ]
  },
  {
   "cell_type": "markdown",
   "metadata": {
    "id": "BqSFAXwlk3Ms"
   },
   "source": [
    "I was able to get the bestaccuracy with the scikit KNN (83%) on magic telescope with k=13, distance weighting and normalized data, which is comparable to my own magic telescope testing with the same parameters.\n",
    "\n",
    "I was able to get a .83 K^2 score with the scikit KNN Regressor with k=3, distance weighting and normalized data. I'm not sure how it compares to my best MSE for housing, which was about 11 with k=7, distance weighting and normalized data."
   ]
  },
  {
   "cell_type": "markdown",
   "metadata": {
    "id": "cTlK-kijk8Mg"
   },
   "source": [
    "## 7. (optional 5% extra credit): For the best value of k for any one of the datasets, implement a reduction algorithm that removes data points in some rational way such that performance does not drop too drastically on the test set given the reduced training set.\n",
    "\n",
    "- Compare your performance on the test set for the reduced and non-reduced versions and give the number (and percentage) of training examples removed from the original training set. How well does your reduction algorithm work?\n",
    "    - Note that performance for magic telescope is classification accuracy and for housing it is mean squared error.\n",
    "    - Magic Telescope has about 12,000 instances and if you use a leave one out style of testing for your data set reduction, then your algorithm will run slow since that is n2 at each step.\n",
    "    - If you wish, you may use a random subset of 2,000 of the magic telescope instances.\n",
    "    - More information on reduction techniques can be found [here](http://axon.cs.byu.edu/~martinez/classes/478/slides/IBL.pdf).\n"
   ]
  },
  {
   "cell_type": "code",
   "execution_count": null,
   "metadata": {
    "id": "5iY77P7gk1Nh"
   },
   "outputs": [],
   "source": []
  }
 ],
 "metadata": {
  "colab": {
   "collapsed_sections": [],
   "name": "lab 1 - perceptron",
   "provenance": []
  },
  "kernelspec": {
   "display_name": "Python 3",
   "language": "python",
   "name": "python3"
  },
  "language_info": {
   "codemirror_mode": {
    "name": "ipython",
    "version": 3
   },
   "file_extension": ".py",
   "mimetype": "text/x-python",
   "name": "python",
   "nbconvert_exporter": "python",
   "pygments_lexer": "ipython3",
   "version": "3.8.5"
  }
 },
 "nbformat": 4,
 "nbformat_minor": 1
}
